{
 "cells": [
  {
   "cell_type": "code",
   "execution_count": 1,
   "metadata": {},
   "outputs": [],
   "source": [
    "import requests\n",
    "from requests.auth import HTTPBasicAuth\n",
    "import simplejson as json\n",
    "import pandas\n",
    "from IPython.display import display\n",
    "import os\n"
   ]
  },
  {
   "cell_type": "code",
   "execution_count": 2,
   "metadata": {},
   "outputs": [],
   "source": [
    "enki = [\n",
    "    '10.243.19.25',\n",
    "    '10.243.19.26',\n",
    "    '10.243.19.27',\n",
    "    '10.243.19.28',\n",
    "    '10.243.19.29',\n",
    "    '10.243.19.172',\n",
    "    '10.243.19.173',\n",
    "    '10.243.19.174',\n",
    "    '10.243.19.175',\n",
    "    '10.243.19.176',\n",
    "    '10.243.19.177',\n",
    "    '10.243.19.178',\n",
    "    '10.243.19.179',\n",
    "    '10.243.19.180',\n",
    "]\n",
    "\n",
    "tiltedbarn = [\n",
    "    '10.243.61.14',\n",
    "    '10.243.61.15',\n",
    "    '10.243.61.16',\n",
    "    '10.243.61.17'\n",
    "]\n",
    "\n",
    "nightshift = [\n",
    "    '10.243.19.198',\n",
    "    '10.243.19.199',\n",
    "    '10.243.19.200',\n",
    "    '10.243.19.201',\n",
    "    '10.243.19.202',\n",
    "    '10.243.19.203',\n",
    "    '10.243.19.204',\n",
    "    '10.243.19.205',\n",
    "    '10.243.19.206',\n",
    "    '10.243.19.207',\n",
    "    '10.243.19.208',\n",
    "    '10.243.19.209',\n",
    "    '10.243.19.210',\n",
    "    '10.243.19.211',\n",
    "    '10.243.19.212'\n",
    "]\n",
    "\n",
    "anchorsteam = [\n",
    "    '10.243.19.152',\n",
    "    '10.243.19.153',\n",
    "    '10.243.19.154',\n",
    "    '10.243.19.155',\n",
    "    '10.243.19.156',\n",
    "    '10.243.19.157',\n",
    "    '10.243.19.158'\n",
    "              ]\n",
    "eaglemonk = [ \n",
    "    '10.243.19.70',\n",
    "    '10.243.19.72', \n",
    "    '10.243.19.74' , \n",
    "    '10.243.19.76', \n",
    "    '10.243.19.78', \n",
    "    '10.243.19.80', \n",
    "    '10.243.19.82',\n",
    "    '10.243.19.84'\n",
    "            ]\n",
    "\n",
    "racks = dict()\n",
    "racks['anchorsteam'] = anchorsteam\n",
    "racks['eaglemonk'] = eaglemonk\n",
    "racks['nightshift'] = nightshift\n",
    "racks['tiltedbarn'] = tiltedbarn\n",
    "racks['enki'] = enki"
   ]
  },
  {
   "cell_type": "code",
   "execution_count": 25,
   "metadata": {},
   "outputs": [],
   "source": [
    "def create_payload(gateway, ip):\n",
    "    url = \"{0}/data/{1}\".format(gateway, ip)\n",
    "    data = {\n",
    "        \"Context\": \"context string\",\n",
    "        \"Description\": \"Event Subscription Details\",\n",
    "        \"EventTypes\": [\n",
    "            \"ResourceAdded\",\n",
    "            \"StatusChange\",\n",
    "                \"Alert\"\n",
    "        ],\n",
    "        \"Id\": \"pravega\",\n",
    "        \"Name\": \"SDP Lab\",\n",
    "        \"Protocol\": \"Redfish\"\n",
    "    }\n",
    "    data[\"Destination\"]  =  url\n",
    "    return data"
   ]
  },
  {
   "cell_type": "code",
   "execution_count": 26,
   "metadata": {},
   "outputs": [
    {
     "name": "stdout",
     "output_type": "stream",
     "text": [
      "{'Context': 'context string', 'Description': 'Event Subscription Details', 'EventTypes': ['ResourceAdded', 'StatusChange', 'Alert'], 'Id': 'pravega', 'Name': 'SDP Lab', 'Protocol': 'Redfish', 'Destination': 'gateway/data/ip'}\n"
     ]
    }
   ],
   "source": [
    "\n",
    "print(create_payload(\"gateway\", \"ip\"))"
   ]
  },
  {
   "cell_type": "code",
   "execution_count": 27,
   "metadata": {},
   "outputs": [
    {
     "name": "stdout",
     "output_type": "stream",
     "text": [
      "anchorsteam\n",
      "10.243.19.152\n"
     ]
    },
    {
     "name": "stderr",
     "output_type": "stream",
     "text": [
      "/opt/conda/lib/python3.7/site-packages/urllib3/connectionpool.py:847: InsecureRequestWarning: Unverified HTTPS request is being made. Adding certificate verification is strongly advised. See: https://urllib3.readthedocs.io/en/latest/advanced-usage.html#ssl-warnings\n",
      "  InsecureRequestWarning)\n"
     ]
    },
    {
     "name": "stdout",
     "output_type": "stream",
     "text": [
      "{'@Message.ExtendedInfo': [{'Message': 'The resource has been created successfully', 'MessageArgs': [], 'MessageArgs@odata.count': 0, 'MessageId': 'Base.1.5.Created', 'RelatedProperties': [], 'RelatedProperties@odata.count': 0, 'Resolution': 'None', 'Severity': 'OK'}, {'Message': 'A new resource is successfully created.', 'MessageArgs': [], 'MessageArgs@odata.count': 0, 'MessageId': 'IDRAC.2.1.SYS414', 'RelatedProperties': [], 'RelatedProperties@odata.count': 0, 'Resolution': 'No response action is required.', 'Severity': 'Informational'}], '@odata.context': '/redfish/v1/$metadata#EventDestination.EventDestination', '@odata.id': '/redfish/v1/EventService/Subscriptions/6e5020d8-8685-11ea-b7b8-4cd98f0d11aa', '@odata.type': '#EventDestination.v1_4_0.EventDestination', 'Context': 'context string', 'Description': 'Event Subscription Details', 'Destination': 'https://gateway.alerts.minister.eaglemonk.desdp.dell.com/data/10.243.19.152', 'EventFormatType': 'Event', 'EventTypes': ['ResourceAdded', 'StatusChange', 'Alert'], 'EventTypes@odata.count': 3, 'HttpHeaders': [], 'HttpHeaders@odata.count': 0, 'Id': '6e5020d8-8685-11ea-b7b8-4cd98f0d11aa', 'Name': 'EventSubscription 6e5020d8-8685-11ea-b7b8-4cd98f0d11aa', 'OriginResources': [], 'OriginResources@odata.count': 0, 'Protocol': 'Redfish', 'SubscriptionType': 'RedfishEvent'}\n",
      "10.243.19.153\n",
      "{'@Message.ExtendedInfo': [{'Message': 'The resource has been created successfully', 'MessageArgs': [], 'MessageArgs@odata.count': 0, 'MessageId': 'Base.1.5.Created', 'RelatedProperties': [], 'RelatedProperties@odata.count': 0, 'Resolution': 'None', 'Severity': 'OK'}, {'Message': 'A new resource is successfully created.', 'MessageArgs': [], 'MessageArgs@odata.count': 0, 'MessageId': 'IDRAC.2.1.SYS414', 'RelatedProperties': [], 'RelatedProperties@odata.count': 0, 'Resolution': 'No response action is required.', 'Severity': 'Informational'}], '@odata.context': '/redfish/v1/$metadata#EventDestination.EventDestination', '@odata.id': '/redfish/v1/EventService/Subscriptions/6e6dfd10-8685-11ea-a94b-4cd98f0d107e', '@odata.type': '#EventDestination.v1_4_0.EventDestination', 'Context': 'context string', 'Description': 'Event Subscription Details', 'Destination': 'https://gateway.alerts.minister.eaglemonk.desdp.dell.com/data/10.243.19.153', 'EventFormatType': 'Event', 'EventTypes': ['ResourceAdded', 'StatusChange', 'Alert'], 'EventTypes@odata.count': 3, 'HttpHeaders': [], 'HttpHeaders@odata.count': 0, 'Id': '6e6dfd10-8685-11ea-a94b-4cd98f0d107e', 'Name': 'EventSubscription 6e6dfd10-8685-11ea-a94b-4cd98f0d107e', 'OriginResources': [], 'OriginResources@odata.count': 0, 'Protocol': 'Redfish', 'SubscriptionType': 'RedfishEvent'}\n",
      "10.243.19.154\n"
     ]
    },
    {
     "name": "stderr",
     "output_type": "stream",
     "text": [
      "/opt/conda/lib/python3.7/site-packages/urllib3/connectionpool.py:847: InsecureRequestWarning: Unverified HTTPS request is being made. Adding certificate verification is strongly advised. See: https://urllib3.readthedocs.io/en/latest/advanced-usage.html#ssl-warnings\n",
      "  InsecureRequestWarning)\n"
     ]
    },
    {
     "name": "stdout",
     "output_type": "stream",
     "text": [
      "10.243.19.155\n"
     ]
    },
    {
     "name": "stderr",
     "output_type": "stream",
     "text": [
      "/opt/conda/lib/python3.7/site-packages/urllib3/connectionpool.py:847: InsecureRequestWarning: Unverified HTTPS request is being made. Adding certificate verification is strongly advised. See: https://urllib3.readthedocs.io/en/latest/advanced-usage.html#ssl-warnings\n",
      "  InsecureRequestWarning)\n"
     ]
    },
    {
     "name": "stdout",
     "output_type": "stream",
     "text": [
      "10.243.19.156\n",
      "{'@Message.ExtendedInfo': [{'Message': 'The resource has been created successfully', 'MessageArgs': [], 'MessageArgs@odata.count': 0, 'MessageId': 'Base.1.5.Created', 'RelatedProperties': [], 'RelatedProperties@odata.count': 0, 'Resolution': 'None', 'Severity': 'OK'}, {'Message': 'A new resource is successfully created.', 'MessageArgs': [], 'MessageArgs@odata.count': 0, 'MessageId': 'IDRAC.2.1.SYS414', 'RelatedProperties': [], 'RelatedProperties@odata.count': 0, 'Resolution': 'No response action is required.', 'Severity': 'Informational'}], '@odata.context': '/redfish/v1/$metadata#EventDestination.EventDestination', '@odata.id': '/redfish/v1/EventService/Subscriptions/74bd8ee2-8685-11ea-8a06-4cd98f0d0f88', '@odata.type': '#EventDestination.v1_4_0.EventDestination', 'Context': 'context string', 'Description': 'Event Subscription Details', 'Destination': 'https://gateway.alerts.minister.eaglemonk.desdp.dell.com/data/10.243.19.156', 'EventFormatType': 'Event', 'EventTypes': ['ResourceAdded', 'StatusChange', 'Alert'], 'EventTypes@odata.count': 3, 'HttpHeaders': [], 'HttpHeaders@odata.count': 0, 'Id': '74bd8ee2-8685-11ea-8a06-4cd98f0d0f88', 'Name': 'EventSubscription 74bd8ee2-8685-11ea-8a06-4cd98f0d0f88', 'OriginResources': [], 'OriginResources@odata.count': 0, 'Protocol': 'Redfish', 'SubscriptionType': 'RedfishEvent'}\n",
      "10.243.19.157\n"
     ]
    },
    {
     "name": "stderr",
     "output_type": "stream",
     "text": [
      "/opt/conda/lib/python3.7/site-packages/urllib3/connectionpool.py:847: InsecureRequestWarning: Unverified HTTPS request is being made. Adding certificate verification is strongly advised. See: https://urllib3.readthedocs.io/en/latest/advanced-usage.html#ssl-warnings\n",
      "  InsecureRequestWarning)\n",
      "/opt/conda/lib/python3.7/site-packages/urllib3/connectionpool.py:847: InsecureRequestWarning: Unverified HTTPS request is being made. Adding certificate verification is strongly advised. See: https://urllib3.readthedocs.io/en/latest/advanced-usage.html#ssl-warnings\n",
      "  InsecureRequestWarning)\n"
     ]
    },
    {
     "name": "stdout",
     "output_type": "stream",
     "text": [
      "{'@Message.ExtendedInfo': [{'Message': 'The resource has been created successfully', 'MessageArgs': [], 'MessageArgs@odata.count': 0, 'MessageId': 'Base.1.5.Created', 'RelatedProperties': [], 'RelatedProperties@odata.count': 0, 'Resolution': 'None', 'Severity': 'OK'}, {'Message': 'A new resource is successfully created.', 'MessageArgs': [], 'MessageArgs@odata.count': 0, 'MessageId': 'IDRAC.2.1.SYS414', 'RelatedProperties': [], 'RelatedProperties@odata.count': 0, 'Resolution': 'No response action is required.', 'Severity': 'Informational'}], '@odata.context': '/redfish/v1/$metadata#EventDestination.EventDestination', '@odata.id': '/redfish/v1/EventService/Subscriptions/74df3894-8685-11ea-8064-588a5ae6e82a', '@odata.type': '#EventDestination.v1_4_0.EventDestination', 'Context': 'context string', 'Description': 'Event Subscription Details', 'Destination': 'https://gateway.alerts.minister.eaglemonk.desdp.dell.com/data/10.243.19.157', 'EventFormatType': 'Event', 'EventTypes': ['ResourceAdded', 'StatusChange', 'Alert'], 'EventTypes@odata.count': 3, 'HttpHeaders': [], 'HttpHeaders@odata.count': 0, 'Id': '74df3894-8685-11ea-8064-588a5ae6e82a', 'Name': 'EventSubscription 74df3894-8685-11ea-8064-588a5ae6e82a', 'OriginResources': [], 'OriginResources@odata.count': 0, 'Protocol': 'Redfish', 'SubscriptionType': 'RedfishEvent'}\n",
      "10.243.19.158\n"
     ]
    },
    {
     "name": "stderr",
     "output_type": "stream",
     "text": [
      "/opt/conda/lib/python3.7/site-packages/urllib3/connectionpool.py:847: InsecureRequestWarning: Unverified HTTPS request is being made. Adding certificate verification is strongly advised. See: https://urllib3.readthedocs.io/en/latest/advanced-usage.html#ssl-warnings\n",
      "  InsecureRequestWarning)\n"
     ]
    },
    {
     "name": "stdout",
     "output_type": "stream",
     "text": [
      "{'@Message.ExtendedInfo': [{'Message': 'The resource has been created successfully', 'MessageArgs': [], 'MessageArgs@odata.count': 0, 'MessageId': 'Base.1.5.Created', 'RelatedProperties': [], 'RelatedProperties@odata.count': 0, 'Resolution': 'None', 'Severity': 'OK'}, {'Message': 'A new resource is successfully created.', 'MessageArgs': [], 'MessageArgs@odata.count': 0, 'MessageId': 'IDRAC.2.1.SYS414', 'RelatedProperties': [], 'RelatedProperties@odata.count': 0, 'Resolution': 'No response action is required.', 'Severity': 'Informational'}], '@odata.context': '/redfish/v1/$metadata#EventDestination.EventDestination', '@odata.id': '/redfish/v1/EventService/Subscriptions/75005178-8685-11ea-bde7-588a5ae6e6f2', '@odata.type': '#EventDestination.v1_4_0.EventDestination', 'Context': 'context string', 'Description': 'Event Subscription Details', 'Destination': 'https://gateway.alerts.minister.eaglemonk.desdp.dell.com/data/10.243.19.158', 'EventFormatType': 'Event', 'EventTypes': ['ResourceAdded', 'StatusChange', 'Alert'], 'EventTypes@odata.count': 3, 'HttpHeaders': [], 'HttpHeaders@odata.count': 0, 'Id': '75005178-8685-11ea-bde7-588a5ae6e6f2', 'Name': 'EventSubscription 75005178-8685-11ea-bde7-588a5ae6e6f2', 'OriginResources': [], 'OriginResources@odata.count': 0, 'Protocol': 'Redfish', 'SubscriptionType': 'RedfishEvent'}\n",
      "eaglemonk\n",
      "10.243.19.70\n",
      "{'@Message.ExtendedInfo': [{'Message': 'The resource has been created successfully', 'MessageArgs': [], 'MessageArgs@odata.count': 0, 'MessageId': 'Base.1.5.Created', 'RelatedProperties': [], 'RelatedProperties@odata.count': 0, 'Resolution': 'None', 'Severity': 'OK'}, {'Message': 'A new resource is successfully created.', 'MessageArgs': [], 'MessageArgs@odata.count': 0, 'MessageId': 'IDRAC.2.1.SYS414', 'RelatedProperties': [], 'RelatedProperties@odata.count': 0, 'Resolution': 'No response action is required.', 'Severity': 'Informational'}], '@odata.context': '/redfish/v1/$metadata#EventDestination.EventDestination', '@odata.id': '/redfish/v1/EventService/Subscriptions/751daaac-8685-11ea-9543-588a5ae923ea', '@odata.type': '#EventDestination.v1_4_0.EventDestination', 'Context': 'context string', 'Description': 'Event Subscription Details', 'Destination': 'https://gateway.alerts.minister.eaglemonk.desdp.dell.com/data/10.243.19.70', 'EventFormatType': 'Event', 'EventTypes': ['ResourceAdded', 'StatusChange', 'Alert'], 'EventTypes@odata.count': 3, 'HttpHeaders': [], 'HttpHeaders@odata.count': 0, 'Id': '751daaac-8685-11ea-9543-588a5ae923ea', 'Name': 'EventSubscription 751daaac-8685-11ea-9543-588a5ae923ea', 'OriginResources': [], 'OriginResources@odata.count': 0, 'Protocol': 'Redfish', 'SubscriptionType': 'RedfishEvent'}\n",
      "10.243.19.72\n"
     ]
    },
    {
     "name": "stderr",
     "output_type": "stream",
     "text": [
      "/opt/conda/lib/python3.7/site-packages/urllib3/connectionpool.py:847: InsecureRequestWarning: Unverified HTTPS request is being made. Adding certificate verification is strongly advised. See: https://urllib3.readthedocs.io/en/latest/advanced-usage.html#ssl-warnings\n",
      "  InsecureRequestWarning)\n",
      "/opt/conda/lib/python3.7/site-packages/urllib3/connectionpool.py:847: InsecureRequestWarning: Unverified HTTPS request is being made. Adding certificate verification is strongly advised. See: https://urllib3.readthedocs.io/en/latest/advanced-usage.html#ssl-warnings\n",
      "  InsecureRequestWarning)\n"
     ]
    },
    {
     "name": "stdout",
     "output_type": "stream",
     "text": [
      "{'@Message.ExtendedInfo': [{'Message': 'The resource has been created successfully', 'MessageArgs': [], 'MessageArgs@odata.count': 0, 'MessageId': 'Base.1.5.Created', 'RelatedProperties': [], 'RelatedProperties@odata.count': 0, 'Resolution': 'None', 'Severity': 'OK'}, {'Message': 'A new resource is successfully created.', 'MessageArgs': [], 'MessageArgs@odata.count': 0, 'MessageId': 'IDRAC.2.1.SYS414', 'RelatedProperties': [], 'RelatedProperties@odata.count': 0, 'Resolution': 'No response action is required.', 'Severity': 'Informational'}], '@odata.context': '/redfish/v1/$metadata#EventDestination.EventDestination', '@odata.id': '/redfish/v1/EventService/Subscriptions/753a40c2-8685-11ea-8ea6-588a5ae90ef0', '@odata.type': '#EventDestination.v1_4_0.EventDestination', 'Context': 'context string', 'Description': 'Event Subscription Details', 'Destination': 'https://gateway.alerts.minister.eaglemonk.desdp.dell.com/data/10.243.19.72', 'EventFormatType': 'Event', 'EventTypes': ['ResourceAdded', 'StatusChange', 'Alert'], 'EventTypes@odata.count': 3, 'HttpHeaders': [], 'HttpHeaders@odata.count': 0, 'Id': '753a40c2-8685-11ea-8ea6-588a5ae90ef0', 'Name': 'EventSubscription 753a40c2-8685-11ea-8ea6-588a5ae90ef0', 'OriginResources': [], 'OriginResources@odata.count': 0, 'Protocol': 'Redfish', 'SubscriptionType': 'RedfishEvent'}\n",
      "10.243.19.74\n"
     ]
    },
    {
     "name": "stderr",
     "output_type": "stream",
     "text": [
      "/opt/conda/lib/python3.7/site-packages/urllib3/connectionpool.py:847: InsecureRequestWarning: Unverified HTTPS request is being made. Adding certificate verification is strongly advised. See: https://urllib3.readthedocs.io/en/latest/advanced-usage.html#ssl-warnings\n",
      "  InsecureRequestWarning)\n"
     ]
    },
    {
     "name": "stdout",
     "output_type": "stream",
     "text": [
      "{'@Message.ExtendedInfo': [{'Message': 'The resource has been created successfully', 'MessageArgs': [], 'MessageArgs@odata.count': 0, 'MessageId': 'Base.1.5.Created', 'RelatedProperties': [], 'RelatedProperties@odata.count': 0, 'Resolution': 'None', 'Severity': 'OK'}, {'Message': 'A new resource is successfully created.', 'MessageArgs': [], 'MessageArgs@odata.count': 0, 'MessageId': 'IDRAC.2.1.SYS414', 'RelatedProperties': [], 'RelatedProperties@odata.count': 0, 'Resolution': 'No response action is required.', 'Severity': 'Informational'}], '@odata.context': '/redfish/v1/$metadata#EventDestination.EventDestination', '@odata.id': '/redfish/v1/EventService/Subscriptions/75745e7e-8685-11ea-909b-509a4cb12a38', '@odata.type': '#EventDestination.v1_4_0.EventDestination', 'Context': 'context string', 'Description': 'Event Subscription Details', 'Destination': 'https://gateway.alerts.minister.eaglemonk.desdp.dell.com/data/10.243.19.74', 'EventFormatType': 'Event', 'EventTypes': ['ResourceAdded', 'StatusChange', 'Alert'], 'EventTypes@odata.count': 3, 'HttpHeaders': [], 'HttpHeaders@odata.count': 0, 'Id': '75745e7e-8685-11ea-909b-509a4cb12a38', 'Name': 'EventSubscription 75745e7e-8685-11ea-909b-509a4cb12a38', 'OriginResources': [], 'OriginResources@odata.count': 0, 'Protocol': 'Redfish', 'SubscriptionType': 'RedfishEvent'}\n",
      "10.243.19.76\n"
     ]
    },
    {
     "name": "stderr",
     "output_type": "stream",
     "text": [
      "/opt/conda/lib/python3.7/site-packages/urllib3/connectionpool.py:847: InsecureRequestWarning: Unverified HTTPS request is being made. Adding certificate verification is strongly advised. See: https://urllib3.readthedocs.io/en/latest/advanced-usage.html#ssl-warnings\n",
      "  InsecureRequestWarning)\n"
     ]
    },
    {
     "name": "stdout",
     "output_type": "stream",
     "text": [
      "{'@Message.ExtendedInfo': [{'Message': 'The resource has been created successfully', 'MessageArgs': [], 'MessageArgs@odata.count': 0, 'MessageId': 'Base.1.5.Created', 'RelatedProperties': [], 'RelatedProperties@odata.count': 0, 'Resolution': 'None', 'Severity': 'OK'}, {'Message': 'A new resource is successfully created.', 'MessageArgs': [], 'MessageArgs@odata.count': 0, 'MessageId': 'IDRAC.2.1.SYS414', 'RelatedProperties': [], 'RelatedProperties@odata.count': 0, 'Resolution': 'No response action is required.', 'Severity': 'Informational'}], '@odata.context': '/redfish/v1/$metadata#EventDestination.EventDestination', '@odata.id': '/redfish/v1/EventService/Subscriptions/759e29a2-8685-11ea-8a53-588a5ae90cda', '@odata.type': '#EventDestination.v1_4_0.EventDestination', 'Context': 'context string', 'Description': 'Event Subscription Details', 'Destination': 'https://gateway.alerts.minister.eaglemonk.desdp.dell.com/data/10.243.19.76', 'EventFormatType': 'Event', 'EventTypes': ['ResourceAdded', 'StatusChange', 'Alert'], 'EventTypes@odata.count': 3, 'HttpHeaders': [], 'HttpHeaders@odata.count': 0, 'Id': '759e29a2-8685-11ea-8a53-588a5ae90cda', 'Name': 'EventSubscription 759e29a2-8685-11ea-8a53-588a5ae90cda', 'OriginResources': [], 'OriginResources@odata.count': 0, 'Protocol': 'Redfish', 'SubscriptionType': 'RedfishEvent'}\n",
      "10.243.19.78\n",
      "{'@Message.ExtendedInfo': [{'Message': 'The resource has been created successfully', 'MessageArgs': [], 'MessageArgs@odata.count': 0, 'MessageId': 'Base.1.5.Created', 'RelatedProperties': [], 'RelatedProperties@odata.count': 0, 'Resolution': 'None', 'Severity': 'OK'}, {'Message': 'A new resource is successfully created.', 'MessageArgs': [], 'MessageArgs@odata.count': 0, 'MessageId': 'IDRAC.2.1.SYS414', 'RelatedProperties': [], 'RelatedProperties@odata.count': 0, 'Resolution': 'No response action is required.', 'Severity': 'Informational'}], '@odata.context': '/redfish/v1/$metadata#EventDestination.EventDestination', '@odata.id': '/redfish/v1/EventService/Subscriptions/75bce5ea-8685-11ea-939d-588a5ae90c6e', '@odata.type': '#EventDestination.v1_4_0.EventDestination', 'Context': 'context string', 'Description': 'Event Subscription Details', 'Destination': 'https://gateway.alerts.minister.eaglemonk.desdp.dell.com/data/10.243.19.78', 'EventFormatType': 'Event', 'EventTypes': ['ResourceAdded', 'StatusChange', 'Alert'], 'EventTypes@odata.count': 3, 'HttpHeaders': [], 'HttpHeaders@odata.count': 0, 'Id': '75bce5ea-8685-11ea-939d-588a5ae90c6e', 'Name': 'EventSubscription 75bce5ea-8685-11ea-939d-588a5ae90c6e', 'OriginResources': [], 'OriginResources@odata.count': 0, 'Protocol': 'Redfish', 'SubscriptionType': 'RedfishEvent'}\n",
      "10.243.19.80\n"
     ]
    },
    {
     "name": "stderr",
     "output_type": "stream",
     "text": [
      "/opt/conda/lib/python3.7/site-packages/urllib3/connectionpool.py:847: InsecureRequestWarning: Unverified HTTPS request is being made. Adding certificate verification is strongly advised. See: https://urllib3.readthedocs.io/en/latest/advanced-usage.html#ssl-warnings\n",
      "  InsecureRequestWarning)\n",
      "/opt/conda/lib/python3.7/site-packages/urllib3/connectionpool.py:847: InsecureRequestWarning: Unverified HTTPS request is being made. Adding certificate verification is strongly advised. See: https://urllib3.readthedocs.io/en/latest/advanced-usage.html#ssl-warnings\n",
      "  InsecureRequestWarning)\n"
     ]
    },
    {
     "name": "stdout",
     "output_type": "stream",
     "text": [
      "{'@Message.ExtendedInfo': [{'Message': 'The resource has been created successfully', 'MessageArgs': [], 'MessageArgs@odata.count': 0, 'MessageId': 'Base.1.5.Created', 'RelatedProperties': [], 'RelatedProperties@odata.count': 0, 'Resolution': 'None', 'Severity': 'OK'}, {'Message': 'A new resource is successfully created.', 'MessageArgs': [], 'MessageArgs@odata.count': 0, 'MessageId': 'IDRAC.2.1.SYS414', 'RelatedProperties': [], 'RelatedProperties@odata.count': 0, 'Resolution': 'No response action is required.', 'Severity': 'Informational'}], '@odata.context': '/redfish/v1/$metadata#EventDestination.EventDestination', '@odata.id': '/redfish/v1/EventService/Subscriptions/75dd265c-8685-11ea-b302-588a5ae90caa', '@odata.type': '#EventDestination.v1_4_0.EventDestination', 'Context': 'context string', 'Description': 'Event Subscription Details', 'Destination': 'https://gateway.alerts.minister.eaglemonk.desdp.dell.com/data/10.243.19.80', 'EventFormatType': 'Event', 'EventTypes': ['ResourceAdded', 'StatusChange', 'Alert'], 'EventTypes@odata.count': 3, 'HttpHeaders': [], 'HttpHeaders@odata.count': 0, 'Id': '75dd265c-8685-11ea-b302-588a5ae90caa', 'Name': 'EventSubscription 75dd265c-8685-11ea-b302-588a5ae90caa', 'OriginResources': [], 'OriginResources@odata.count': 0, 'Protocol': 'Redfish', 'SubscriptionType': 'RedfishEvent'}\n",
      "10.243.19.82\n"
     ]
    },
    {
     "name": "stderr",
     "output_type": "stream",
     "text": [
      "/opt/conda/lib/python3.7/site-packages/urllib3/connectionpool.py:847: InsecureRequestWarning: Unverified HTTPS request is being made. Adding certificate verification is strongly advised. See: https://urllib3.readthedocs.io/en/latest/advanced-usage.html#ssl-warnings\n",
      "  InsecureRequestWarning)\n"
     ]
    },
    {
     "name": "stdout",
     "output_type": "stream",
     "text": [
      "{'@Message.ExtendedInfo': [{'Message': 'The resource has been created successfully', 'MessageArgs': [], 'MessageArgs@odata.count': 0, 'MessageId': 'Base.1.5.Created', 'RelatedProperties': [], 'RelatedProperties@odata.count': 0, 'Resolution': 'None', 'Severity': 'OK'}, {'Message': 'A new resource is successfully created.', 'MessageArgs': [], 'MessageArgs@odata.count': 0, 'MessageId': 'IDRAC.2.1.SYS414', 'RelatedProperties': [], 'RelatedProperties@odata.count': 0, 'Resolution': 'No response action is required.', 'Severity': 'Informational'}], '@odata.context': '/redfish/v1/$metadata#EventDestination.EventDestination', '@odata.id': '/redfish/v1/EventService/Subscriptions/75fce2a8-8685-11ea-bbb6-588a5ae6d4ec', '@odata.type': '#EventDestination.v1_4_0.EventDestination', 'Context': 'context string', 'Description': 'Event Subscription Details', 'Destination': 'https://gateway.alerts.minister.eaglemonk.desdp.dell.com/data/10.243.19.82', 'EventFormatType': 'Event', 'EventTypes': ['ResourceAdded', 'StatusChange', 'Alert'], 'EventTypes@odata.count': 3, 'HttpHeaders': [], 'HttpHeaders@odata.count': 0, 'Id': '75fce2a8-8685-11ea-bbb6-588a5ae6d4ec', 'Name': 'EventSubscription 75fce2a8-8685-11ea-bbb6-588a5ae6d4ec', 'OriginResources': [], 'OriginResources@odata.count': 0, 'Protocol': 'Redfish', 'SubscriptionType': 'RedfishEvent'}\n",
      "10.243.19.84\n"
     ]
    },
    {
     "name": "stderr",
     "output_type": "stream",
     "text": [
      "/opt/conda/lib/python3.7/site-packages/urllib3/connectionpool.py:847: InsecureRequestWarning: Unverified HTTPS request is being made. Adding certificate verification is strongly advised. See: https://urllib3.readthedocs.io/en/latest/advanced-usage.html#ssl-warnings\n",
      "  InsecureRequestWarning)\n"
     ]
    },
    {
     "name": "stdout",
     "output_type": "stream",
     "text": [
      "{'@Message.ExtendedInfo': [{'Message': 'The resource has been created successfully', 'MessageArgs': [], 'MessageArgs@odata.count': 0, 'MessageId': 'Base.1.5.Created', 'RelatedProperties': [], 'RelatedProperties@odata.count': 0, 'Resolution': 'None', 'Severity': 'OK'}, {'Message': 'A new resource is successfully created.', 'MessageArgs': [], 'MessageArgs@odata.count': 0, 'MessageId': 'IDRAC.2.1.SYS414', 'RelatedProperties': [], 'RelatedProperties@odata.count': 0, 'Resolution': 'No response action is required.', 'Severity': 'Informational'}], '@odata.context': '/redfish/v1/$metadata#EventDestination.EventDestination', '@odata.id': '/redfish/v1/EventService/Subscriptions/7675c4a2-8685-11ea-92cc-588a5ae6e79a', '@odata.type': '#EventDestination.v1_4_0.EventDestination', 'Context': 'context string', 'Description': 'Event Subscription Details', 'Destination': 'https://gateway.alerts.minister.eaglemonk.desdp.dell.com/data/10.243.19.84', 'EventFormatType': 'Event', 'EventTypes': ['ResourceAdded', 'StatusChange', 'Alert'], 'EventTypes@odata.count': 3, 'HttpHeaders': [], 'HttpHeaders@odata.count': 0, 'Id': '7675c4a2-8685-11ea-92cc-588a5ae6e79a', 'Name': 'EventSubscription 7675c4a2-8685-11ea-92cc-588a5ae6e79a', 'OriginResources': [], 'OriginResources@odata.count': 0, 'Protocol': 'Redfish', 'SubscriptionType': 'RedfishEvent'}\n",
      "nightshift\n",
      "10.243.19.198\n",
      "{'@Message.ExtendedInfo': [{'Message': 'The resource has been created successfully', 'MessageArgs': [], 'MessageArgs@odata.count': 0, 'MessageId': 'Base.1.5.Created', 'RelatedProperties': [], 'RelatedProperties@odata.count': 0, 'Resolution': 'None', 'Severity': 'OK'}, {'Message': 'A new resource is successfully created.', 'MessageArgs': [], 'MessageArgs@odata.count': 0, 'MessageId': 'IDRAC.2.1.SYS414', 'RelatedProperties': [], 'RelatedProperties@odata.count': 0, 'Resolution': 'No response action is required.', 'Severity': 'Informational'}], '@odata.context': '/redfish/v1/$metadata#EventDestination.EventDestination', '@odata.id': '/redfish/v1/EventService/Subscriptions/76963c82-8685-11ea-a53a-4cd98f1216f6', '@odata.type': '#EventDestination.v1_4_0.EventDestination', 'Context': 'context string', 'Description': 'Event Subscription Details', 'Destination': 'https://gateway.alerts.minister.eaglemonk.desdp.dell.com/data/10.243.19.198', 'EventFormatType': 'Event', 'EventTypes': ['ResourceAdded', 'StatusChange', 'Alert'], 'EventTypes@odata.count': 3, 'HttpHeaders': [], 'HttpHeaders@odata.count': 0, 'Id': '76963c82-8685-11ea-a53a-4cd98f1216f6', 'Name': 'EventSubscription 76963c82-8685-11ea-a53a-4cd98f1216f6', 'OriginResources': [], 'OriginResources@odata.count': 0, 'Protocol': 'Redfish', 'SubscriptionType': 'RedfishEvent'}\n",
      "10.243.19.199\n"
     ]
    },
    {
     "name": "stderr",
     "output_type": "stream",
     "text": [
      "/opt/conda/lib/python3.7/site-packages/urllib3/connectionpool.py:847: InsecureRequestWarning: Unverified HTTPS request is being made. Adding certificate verification is strongly advised. See: https://urllib3.readthedocs.io/en/latest/advanced-usage.html#ssl-warnings\n",
      "  InsecureRequestWarning)\n",
      "/opt/conda/lib/python3.7/site-packages/urllib3/connectionpool.py:847: InsecureRequestWarning: Unverified HTTPS request is being made. Adding certificate verification is strongly advised. See: https://urllib3.readthedocs.io/en/latest/advanced-usage.html#ssl-warnings\n",
      "  InsecureRequestWarning)\n",
      "/opt/conda/lib/python3.7/site-packages/urllib3/connectionpool.py:847: InsecureRequestWarning: Unverified HTTPS request is being made. Adding certificate verification is strongly advised. See: https://urllib3.readthedocs.io/en/latest/advanced-usage.html#ssl-warnings\n",
      "  InsecureRequestWarning)\n"
     ]
    },
    {
     "name": "stdout",
     "output_type": "stream",
     "text": [
      "{'@Message.ExtendedInfo': [{'Message': 'The resource has been created successfully', 'MessageArgs': [], 'MessageArgs@odata.count': 0, 'MessageId': 'Base.1.5.Created', 'RelatedProperties': [], 'RelatedProperties@odata.count': 0, 'Resolution': 'None', 'Severity': 'OK'}, {'Message': 'A new resource is successfully created.', 'MessageArgs': [], 'MessageArgs@odata.count': 0, 'MessageId': 'IDRAC.2.1.SYS414', 'RelatedProperties': [], 'RelatedProperties@odata.count': 0, 'Resolution': 'No response action is required.', 'Severity': 'Informational'}], '@odata.context': '/redfish/v1/$metadata#EventDestination.EventDestination', '@odata.id': '/redfish/v1/EventService/Subscriptions/76b73892-8685-11ea-80e4-4cd98f101e24', '@odata.type': '#EventDestination.v1_4_0.EventDestination', 'Context': 'context string', 'Description': 'Event Subscription Details', 'Destination': 'https://gateway.alerts.minister.eaglemonk.desdp.dell.com/data/10.243.19.199', 'EventFormatType': 'Event', 'EventTypes': ['ResourceAdded', 'StatusChange', 'Alert'], 'EventTypes@odata.count': 3, 'HttpHeaders': [], 'HttpHeaders@odata.count': 0, 'Id': '76b73892-8685-11ea-80e4-4cd98f101e24', 'Name': 'EventSubscription 76b73892-8685-11ea-80e4-4cd98f101e24', 'OriginResources': [], 'OriginResources@odata.count': 0, 'Protocol': 'Redfish', 'SubscriptionType': 'RedfishEvent'}\n",
      "10.243.19.200\n",
      "{'@Message.ExtendedInfo': [{'Message': 'The resource has been created successfully', 'MessageArgs': [], 'MessageArgs@odata.count': 0, 'MessageId': 'Base.1.5.Created', 'RelatedProperties': [], 'RelatedProperties@odata.count': 0, 'Resolution': 'None', 'Severity': 'OK'}, {'Message': 'A new resource is successfully created.', 'MessageArgs': [], 'MessageArgs@odata.count': 0, 'MessageId': 'IDRAC.2.1.SYS414', 'RelatedProperties': [], 'RelatedProperties@odata.count': 0, 'Resolution': 'No response action is required.', 'Severity': 'Informational'}], '@odata.context': '/redfish/v1/$metadata#EventDestination.EventDestination', '@odata.id': '/redfish/v1/EventService/Subscriptions/76d3a338-8685-11ea-8d6a-4cd98f101bf6', '@odata.type': '#EventDestination.v1_4_0.EventDestination', 'Context': 'context string', 'Description': 'Event Subscription Details', 'Destination': 'https://gateway.alerts.minister.eaglemonk.desdp.dell.com/data/10.243.19.200', 'EventFormatType': 'Event', 'EventTypes': ['ResourceAdded', 'StatusChange', 'Alert'], 'EventTypes@odata.count': 3, 'HttpHeaders': [], 'HttpHeaders@odata.count': 0, 'Id': '76d3a338-8685-11ea-8d6a-4cd98f101bf6', 'Name': 'EventSubscription 76d3a338-8685-11ea-8d6a-4cd98f101bf6', 'OriginResources': [], 'OriginResources@odata.count': 0, 'Protocol': 'Redfish', 'SubscriptionType': 'RedfishEvent'}\n",
      "10.243.19.201\n"
     ]
    },
    {
     "name": "stderr",
     "output_type": "stream",
     "text": [
      "/opt/conda/lib/python3.7/site-packages/urllib3/connectionpool.py:847: InsecureRequestWarning: Unverified HTTPS request is being made. Adding certificate verification is strongly advised. See: https://urllib3.readthedocs.io/en/latest/advanced-usage.html#ssl-warnings\n",
      "  InsecureRequestWarning)\n"
     ]
    },
    {
     "name": "stdout",
     "output_type": "stream",
     "text": [
      "{'@Message.ExtendedInfo': [{'Message': 'The resource has been created successfully', 'MessageArgs': [], 'MessageArgs@odata.count': 0, 'MessageId': 'Base.1.5.Created', 'RelatedProperties': [], 'RelatedProperties@odata.count': 0, 'Resolution': 'None', 'Severity': 'OK'}, {'Message': 'A new resource is successfully created.', 'MessageArgs': [], 'MessageArgs@odata.count': 0, 'MessageId': 'IDRAC.2.1.SYS414', 'RelatedProperties': [], 'RelatedProperties@odata.count': 0, 'Resolution': 'No response action is required.', 'Severity': 'Informational'}], '@odata.context': '/redfish/v1/$metadata#EventDestination.EventDestination', '@odata.id': '/redfish/v1/EventService/Subscriptions/76fb179c-8685-11ea-ac12-4cd98f101d8e', '@odata.type': '#EventDestination.v1_4_0.EventDestination', 'Context': 'context string', 'Description': 'Event Subscription Details', 'Destination': 'https://gateway.alerts.minister.eaglemonk.desdp.dell.com/data/10.243.19.201', 'EventFormatType': 'Event', 'EventTypes': ['ResourceAdded', 'StatusChange', 'Alert'], 'EventTypes@odata.count': 3, 'HttpHeaders': [], 'HttpHeaders@odata.count': 0, 'Id': '76fb179c-8685-11ea-ac12-4cd98f101d8e', 'Name': 'EventSubscription 76fb179c-8685-11ea-ac12-4cd98f101d8e', 'OriginResources': [], 'OriginResources@odata.count': 0, 'Protocol': 'Redfish', 'SubscriptionType': 'RedfishEvent'}\n",
      "10.243.19.202\n"
     ]
    },
    {
     "name": "stderr",
     "output_type": "stream",
     "text": [
      "/opt/conda/lib/python3.7/site-packages/urllib3/connectionpool.py:847: InsecureRequestWarning: Unverified HTTPS request is being made. Adding certificate verification is strongly advised. See: https://urllib3.readthedocs.io/en/latest/advanced-usage.html#ssl-warnings\n",
      "  InsecureRequestWarning)\n"
     ]
    },
    {
     "name": "stdout",
     "output_type": "stream",
     "text": [
      "{'@Message.ExtendedInfo': [{'Message': 'The resource has been created successfully', 'MessageArgs': [], 'MessageArgs@odata.count': 0, 'MessageId': 'Base.1.5.Created', 'RelatedProperties': [], 'RelatedProperties@odata.count': 0, 'Resolution': 'None', 'Severity': 'OK'}, {'Message': 'A new resource is successfully created.', 'MessageArgs': [], 'MessageArgs@odata.count': 0, 'MessageId': 'IDRAC.2.1.SYS414', 'RelatedProperties': [], 'RelatedProperties@odata.count': 0, 'Resolution': 'No response action is required.', 'Severity': 'Informational'}], '@odata.context': '/redfish/v1/$metadata#EventDestination.EventDestination', '@odata.id': '/redfish/v1/EventService/Subscriptions/772056ec-8685-11ea-97d3-4cd98f121b10', '@odata.type': '#EventDestination.v1_4_0.EventDestination', 'Context': 'context string', 'Description': 'Event Subscription Details', 'Destination': 'https://gateway.alerts.minister.eaglemonk.desdp.dell.com/data/10.243.19.202', 'EventFormatType': 'Event', 'EventTypes': ['ResourceAdded', 'StatusChange', 'Alert'], 'EventTypes@odata.count': 3, 'HttpHeaders': [], 'HttpHeaders@odata.count': 0, 'Id': '772056ec-8685-11ea-97d3-4cd98f121b10', 'Name': 'EventSubscription 772056ec-8685-11ea-97d3-4cd98f121b10', 'OriginResources': [], 'OriginResources@odata.count': 0, 'Protocol': 'Redfish', 'SubscriptionType': 'RedfishEvent'}\n",
      "10.243.19.203\n"
     ]
    },
    {
     "name": "stderr",
     "output_type": "stream",
     "text": [
      "/opt/conda/lib/python3.7/site-packages/urllib3/connectionpool.py:847: InsecureRequestWarning: Unverified HTTPS request is being made. Adding certificate verification is strongly advised. See: https://urllib3.readthedocs.io/en/latest/advanced-usage.html#ssl-warnings\n",
      "  InsecureRequestWarning)\n"
     ]
    },
    {
     "name": "stdout",
     "output_type": "stream",
     "text": [
      "{'@Message.ExtendedInfo': [{'Message': 'The resource has been created successfully', 'MessageArgs': [], 'MessageArgs@odata.count': 0, 'MessageId': 'Base.1.5.Created', 'RelatedProperties': [], 'RelatedProperties@odata.count': 0, 'Resolution': 'None', 'Severity': 'OK'}, {'Message': 'A new resource is successfully created.', 'MessageArgs': [], 'MessageArgs@odata.count': 0, 'MessageId': 'IDRAC.2.1.SYS414', 'RelatedProperties': [], 'RelatedProperties@odata.count': 0, 'Resolution': 'No response action is required.', 'Severity': 'Informational'}], '@odata.context': '/redfish/v1/$metadata#EventDestination.EventDestination', '@odata.id': '/redfish/v1/EventService/Subscriptions/774e0754-8685-11ea-abaa-588a5ae90f4a', '@odata.type': '#EventDestination.v1_4_0.EventDestination', 'Context': 'context string', 'Description': 'Event Subscription Details', 'Destination': 'https://gateway.alerts.minister.eaglemonk.desdp.dell.com/data/10.243.19.203', 'EventFormatType': 'Event', 'EventTypes': ['ResourceAdded', 'StatusChange', 'Alert'], 'EventTypes@odata.count': 3, 'HttpHeaders': [], 'HttpHeaders@odata.count': 0, 'Id': '774e0754-8685-11ea-abaa-588a5ae90f4a', 'Name': 'EventSubscription 774e0754-8685-11ea-abaa-588a5ae90f4a', 'OriginResources': [], 'OriginResources@odata.count': 0, 'Protocol': 'Redfish', 'SubscriptionType': 'RedfishEvent'}\n",
      "10.243.19.204\n",
      "{'@Message.ExtendedInfo': [{'Message': 'The resource has been created successfully', 'MessageArgs': [], 'MessageArgs@odata.count': 0, 'MessageId': 'Base.1.5.Created', 'RelatedProperties': [], 'RelatedProperties@odata.count': 0, 'Resolution': 'None', 'Severity': 'OK'}, {'Message': 'A new resource is successfully created.', 'MessageArgs': [], 'MessageArgs@odata.count': 0, 'MessageId': 'IDRAC.2.1.SYS414', 'RelatedProperties': [], 'RelatedProperties@odata.count': 0, 'Resolution': 'No response action is required.', 'Severity': 'Informational'}], '@odata.context': '/redfish/v1/$metadata#EventDestination.EventDestination', '@odata.id': '/redfish/v1/EventService/Subscriptions/7770f980-8685-11ea-9607-588a5ae911ea', '@odata.type': '#EventDestination.v1_4_0.EventDestination', 'Context': 'context string', 'Description': 'Event Subscription Details', 'Destination': 'https://gateway.alerts.minister.eaglemonk.desdp.dell.com/data/10.243.19.204', 'EventFormatType': 'Event', 'EventTypes': ['ResourceAdded', 'StatusChange', 'Alert'], 'EventTypes@odata.count': 3, 'HttpHeaders': [], 'HttpHeaders@odata.count': 0, 'Id': '7770f980-8685-11ea-9607-588a5ae911ea', 'Name': 'EventSubscription 7770f980-8685-11ea-9607-588a5ae911ea', 'OriginResources': [], 'OriginResources@odata.count': 0, 'Protocol': 'Redfish', 'SubscriptionType': 'RedfishEvent'}\n",
      "10.243.19.205\n"
     ]
    },
    {
     "name": "stderr",
     "output_type": "stream",
     "text": [
      "/opt/conda/lib/python3.7/site-packages/urllib3/connectionpool.py:847: InsecureRequestWarning: Unverified HTTPS request is being made. Adding certificate verification is strongly advised. See: https://urllib3.readthedocs.io/en/latest/advanced-usage.html#ssl-warnings\n",
      "  InsecureRequestWarning)\n",
      "/opt/conda/lib/python3.7/site-packages/urllib3/connectionpool.py:847: InsecureRequestWarning: Unverified HTTPS request is being made. Adding certificate verification is strongly advised. See: https://urllib3.readthedocs.io/en/latest/advanced-usage.html#ssl-warnings\n",
      "  InsecureRequestWarning)\n"
     ]
    },
    {
     "name": "stdout",
     "output_type": "stream",
     "text": [
      "{'@Message.ExtendedInfo': [{'Message': 'The resource has been created successfully', 'MessageArgs': [], 'MessageArgs@odata.count': 0, 'MessageId': 'Base.1.5.Created', 'RelatedProperties': [], 'RelatedProperties@odata.count': 0, 'Resolution': 'None', 'Severity': 'OK'}, {'Message': 'A new resource is successfully created.', 'MessageArgs': [], 'MessageArgs@odata.count': 0, 'MessageId': 'IDRAC.2.1.SYS414', 'RelatedProperties': [], 'RelatedProperties@odata.count': 0, 'Resolution': 'No response action is required.', 'Severity': 'Informational'}], '@odata.context': '/redfish/v1/$metadata#EventDestination.EventDestination', '@odata.id': '/redfish/v1/EventService/Subscriptions/77ad5f24-8685-11ea-94bc-588a5ae829a8', '@odata.type': '#EventDestination.v1_4_0.EventDestination', 'Context': 'context string', 'Description': 'Event Subscription Details', 'Destination': 'https://gateway.alerts.minister.eaglemonk.desdp.dell.com/data/10.243.19.205', 'EventFormatType': 'Event', 'EventTypes': ['ResourceAdded', 'StatusChange', 'Alert'], 'EventTypes@odata.count': 3, 'HttpHeaders': [], 'HttpHeaders@odata.count': 0, 'Id': '77ad5f24-8685-11ea-94bc-588a5ae829a8', 'Name': 'EventSubscription 77ad5f24-8685-11ea-94bc-588a5ae829a8', 'OriginResources': [], 'OriginResources@odata.count': 0, 'Protocol': 'Redfish', 'SubscriptionType': 'RedfishEvent'}\n",
      "10.243.19.206\n"
     ]
    },
    {
     "name": "stderr",
     "output_type": "stream",
     "text": [
      "/opt/conda/lib/python3.7/site-packages/urllib3/connectionpool.py:847: InsecureRequestWarning: Unverified HTTPS request is being made. Adding certificate verification is strongly advised. See: https://urllib3.readthedocs.io/en/latest/advanced-usage.html#ssl-warnings\n",
      "  InsecureRequestWarning)\n"
     ]
    },
    {
     "name": "stdout",
     "output_type": "stream",
     "text": [
      "{'@Message.ExtendedInfo': [{'Message': 'The resource has been created successfully', 'MessageArgs': [], 'MessageArgs@odata.count': 0, 'MessageId': 'Base.1.5.Created', 'RelatedProperties': [], 'RelatedProperties@odata.count': 0, 'Resolution': 'None', 'Severity': 'OK'}, {'Message': 'A new resource is successfully created.', 'MessageArgs': [], 'MessageArgs@odata.count': 0, 'MessageId': 'IDRAC.2.1.SYS414', 'RelatedProperties': [], 'RelatedProperties@odata.count': 0, 'Resolution': 'No response action is required.', 'Severity': 'Informational'}], '@odata.context': '/redfish/v1/$metadata#EventDestination.EventDestination', '@odata.id': '/redfish/v1/EventService/Subscriptions/77d2895c-8685-11ea-b820-588a5ae82ac8', '@odata.type': '#EventDestination.v1_4_0.EventDestination', 'Context': 'context string', 'Description': 'Event Subscription Details', 'Destination': 'https://gateway.alerts.minister.eaglemonk.desdp.dell.com/data/10.243.19.206', 'EventFormatType': 'Event', 'EventTypes': ['ResourceAdded', 'StatusChange', 'Alert'], 'EventTypes@odata.count': 3, 'HttpHeaders': [], 'HttpHeaders@odata.count': 0, 'Id': '77d2895c-8685-11ea-b820-588a5ae82ac8', 'Name': 'EventSubscription 77d2895c-8685-11ea-b820-588a5ae82ac8', 'OriginResources': [], 'OriginResources@odata.count': 0, 'Protocol': 'Redfish', 'SubscriptionType': 'RedfishEvent'}\n",
      "10.243.19.207\n"
     ]
    },
    {
     "name": "stderr",
     "output_type": "stream",
     "text": [
      "/opt/conda/lib/python3.7/site-packages/urllib3/connectionpool.py:847: InsecureRequestWarning: Unverified HTTPS request is being made. Adding certificate verification is strongly advised. See: https://urllib3.readthedocs.io/en/latest/advanced-usage.html#ssl-warnings\n",
      "  InsecureRequestWarning)\n"
     ]
    },
    {
     "name": "stdout",
     "output_type": "stream",
     "text": [
      "{'@Message.ExtendedInfo': [{'Message': 'The resource has been created successfully', 'MessageArgs': [], 'MessageArgs@odata.count': 0, 'MessageId': 'Base.1.5.Created', 'RelatedProperties': [], 'RelatedProperties@odata.count': 0, 'Resolution': 'None', 'Severity': 'OK'}, {'Message': 'A new resource is successfully created.', 'MessageArgs': [], 'MessageArgs@odata.count': 0, 'MessageId': 'IDRAC.2.1.SYS414', 'RelatedProperties': [], 'RelatedProperties@odata.count': 0, 'Resolution': 'No response action is required.', 'Severity': 'Informational'}], '@odata.context': '/redfish/v1/$metadata#EventDestination.EventDestination', '@odata.id': '/redfish/v1/EventService/Subscriptions/77f3d1b6-8685-11ea-9b77-588a5ae80620', '@odata.type': '#EventDestination.v1_4_0.EventDestination', 'Context': 'context string', 'Description': 'Event Subscription Details', 'Destination': 'https://gateway.alerts.minister.eaglemonk.desdp.dell.com/data/10.243.19.207', 'EventFormatType': 'Event', 'EventTypes': ['ResourceAdded', 'StatusChange', 'Alert'], 'EventTypes@odata.count': 3, 'HttpHeaders': [], 'HttpHeaders@odata.count': 0, 'Id': '77f3d1b6-8685-11ea-9b77-588a5ae80620', 'Name': 'EventSubscription 77f3d1b6-8685-11ea-9b77-588a5ae80620', 'OriginResources': [], 'OriginResources@odata.count': 0, 'Protocol': 'Redfish', 'SubscriptionType': 'RedfishEvent'}\n",
      "10.243.19.208\n",
      "{'@Message.ExtendedInfo': [{'Message': 'The resource has been created successfully', 'MessageArgs': [], 'MessageArgs@odata.count': 0, 'MessageId': 'Base.1.5.Created', 'RelatedProperties': [], 'RelatedProperties@odata.count': 0, 'Resolution': 'None', 'Severity': 'OK'}, {'Message': 'A new resource is successfully created.', 'MessageArgs': [], 'MessageArgs@odata.count': 0, 'MessageId': 'IDRAC.2.1.SYS414', 'RelatedProperties': [], 'RelatedProperties@odata.count': 0, 'Resolution': 'No response action is required.', 'Severity': 'Informational'}], '@odata.context': '/redfish/v1/$metadata#EventDestination.EventDestination', '@odata.id': '/redfish/v1/EventService/Subscriptions/7813802e-8685-11ea-9ebb-588a5ae8afc8', '@odata.type': '#EventDestination.v1_4_0.EventDestination', 'Context': 'context string', 'Description': 'Event Subscription Details', 'Destination': 'https://gateway.alerts.minister.eaglemonk.desdp.dell.com/data/10.243.19.208', 'EventFormatType': 'Event', 'EventTypes': ['ResourceAdded', 'StatusChange', 'Alert'], 'EventTypes@odata.count': 3, 'HttpHeaders': [], 'HttpHeaders@odata.count': 0, 'Id': '7813802e-8685-11ea-9ebb-588a5ae8afc8', 'Name': 'EventSubscription 7813802e-8685-11ea-9ebb-588a5ae8afc8', 'OriginResources': [], 'OriginResources@odata.count': 0, 'Protocol': 'Redfish', 'SubscriptionType': 'RedfishEvent'}\n",
      "10.243.19.209\n"
     ]
    },
    {
     "name": "stderr",
     "output_type": "stream",
     "text": [
      "/opt/conda/lib/python3.7/site-packages/urllib3/connectionpool.py:847: InsecureRequestWarning: Unverified HTTPS request is being made. Adding certificate verification is strongly advised. See: https://urllib3.readthedocs.io/en/latest/advanced-usage.html#ssl-warnings\n",
      "  InsecureRequestWarning)\n",
      "/opt/conda/lib/python3.7/site-packages/urllib3/connectionpool.py:847: InsecureRequestWarning: Unverified HTTPS request is being made. Adding certificate verification is strongly advised. See: https://urllib3.readthedocs.io/en/latest/advanced-usage.html#ssl-warnings\n",
      "  InsecureRequestWarning)\n"
     ]
    },
    {
     "name": "stdout",
     "output_type": "stream",
     "text": [
      "{'@Message.ExtendedInfo': [{'Message': 'The resource has been created successfully', 'MessageArgs': [], 'MessageArgs@odata.count': 0, 'MessageId': 'Base.1.5.Created', 'RelatedProperties': [], 'RelatedProperties@odata.count': 0, 'Resolution': 'None', 'Severity': 'OK'}, {'Message': 'A new resource is successfully created.', 'MessageArgs': [], 'MessageArgs@odata.count': 0, 'MessageId': 'IDRAC.2.1.SYS414', 'RelatedProperties': [], 'RelatedProperties@odata.count': 0, 'Resolution': 'No response action is required.', 'Severity': 'Informational'}], '@odata.context': '/redfish/v1/$metadata#EventDestination.EventDestination', '@odata.id': '/redfish/v1/EventService/Subscriptions/78a0666a-8685-11ea-b11b-588a5ae911f6', '@odata.type': '#EventDestination.v1_4_0.EventDestination', 'Context': 'context string', 'Description': 'Event Subscription Details', 'Destination': 'https://gateway.alerts.minister.eaglemonk.desdp.dell.com/data/10.243.19.209', 'EventFormatType': 'Event', 'EventTypes': ['ResourceAdded', 'StatusChange', 'Alert'], 'EventTypes@odata.count': 3, 'HttpHeaders': [], 'HttpHeaders@odata.count': 0, 'Id': '78a0666a-8685-11ea-b11b-588a5ae911f6', 'Name': 'EventSubscription 78a0666a-8685-11ea-b11b-588a5ae911f6', 'OriginResources': [], 'OriginResources@odata.count': 0, 'Protocol': 'Redfish', 'SubscriptionType': 'RedfishEvent'}\n",
      "10.243.19.210\n"
     ]
    },
    {
     "name": "stderr",
     "output_type": "stream",
     "text": [
      "/opt/conda/lib/python3.7/site-packages/urllib3/connectionpool.py:847: InsecureRequestWarning: Unverified HTTPS request is being made. Adding certificate verification is strongly advised. See: https://urllib3.readthedocs.io/en/latest/advanced-usage.html#ssl-warnings\n",
      "  InsecureRequestWarning)\n"
     ]
    },
    {
     "name": "stdout",
     "output_type": "stream",
     "text": [
      "{'@Message.ExtendedInfo': [{'Message': 'The resource has been created successfully', 'MessageArgs': [], 'MessageArgs@odata.count': 0, 'MessageId': 'Base.1.5.Created', 'RelatedProperties': [], 'RelatedProperties@odata.count': 0, 'Resolution': 'None', 'Severity': 'OK'}, {'Message': 'A new resource is successfully created.', 'MessageArgs': [], 'MessageArgs@odata.count': 0, 'MessageId': 'IDRAC.2.1.SYS414', 'RelatedProperties': [], 'RelatedProperties@odata.count': 0, 'Resolution': 'No response action is required.', 'Severity': 'Informational'}], '@odata.context': '/redfish/v1/$metadata#EventDestination.EventDestination', '@odata.id': '/redfish/v1/EventService/Subscriptions/78dc07d8-8685-11ea-bb6d-588a5ae911d2', '@odata.type': '#EventDestination.v1_4_0.EventDestination', 'Context': 'context string', 'Description': 'Event Subscription Details', 'Destination': 'https://gateway.alerts.minister.eaglemonk.desdp.dell.com/data/10.243.19.210', 'EventFormatType': 'Event', 'EventTypes': ['ResourceAdded', 'StatusChange', 'Alert'], 'EventTypes@odata.count': 3, 'HttpHeaders': [], 'HttpHeaders@odata.count': 0, 'Id': '78dc07d8-8685-11ea-bb6d-588a5ae911d2', 'Name': 'EventSubscription 78dc07d8-8685-11ea-bb6d-588a5ae911d2', 'OriginResources': [], 'OriginResources@odata.count': 0, 'Protocol': 'Redfish', 'SubscriptionType': 'RedfishEvent'}\n",
      "10.243.19.211\n"
     ]
    },
    {
     "name": "stderr",
     "output_type": "stream",
     "text": [
      "/opt/conda/lib/python3.7/site-packages/urllib3/connectionpool.py:847: InsecureRequestWarning: Unverified HTTPS request is being made. Adding certificate verification is strongly advised. See: https://urllib3.readthedocs.io/en/latest/advanced-usage.html#ssl-warnings\n",
      "  InsecureRequestWarning)\n"
     ]
    },
    {
     "name": "stdout",
     "output_type": "stream",
     "text": [
      "{'@Message.ExtendedInfo': [{'Message': 'The resource has been created successfully', 'MessageArgs': [], 'MessageArgs@odata.count': 0, 'MessageId': 'Base.1.5.Created', 'RelatedProperties': [], 'RelatedProperties@odata.count': 0, 'Resolution': 'None', 'Severity': 'OK'}, {'Message': 'A new resource is successfully created.', 'MessageArgs': [], 'MessageArgs@odata.count': 0, 'MessageId': 'IDRAC.2.1.SYS414', 'RelatedProperties': [], 'RelatedProperties@odata.count': 0, 'Resolution': 'No response action is required.', 'Severity': 'Informational'}], '@odata.context': '/redfish/v1/$metadata#EventDestination.EventDestination', '@odata.id': '/redfish/v1/EventService/Subscriptions/79021a68-8685-11ea-bbce-588a5ae6e72e', '@odata.type': '#EventDestination.v1_4_0.EventDestination', 'Context': 'context string', 'Description': 'Event Subscription Details', 'Destination': 'https://gateway.alerts.minister.eaglemonk.desdp.dell.com/data/10.243.19.211', 'EventFormatType': 'Event', 'EventTypes': ['ResourceAdded', 'StatusChange', 'Alert'], 'EventTypes@odata.count': 3, 'HttpHeaders': [], 'HttpHeaders@odata.count': 0, 'Id': '79021a68-8685-11ea-bbce-588a5ae6e72e', 'Name': 'EventSubscription 79021a68-8685-11ea-bbce-588a5ae6e72e', 'OriginResources': [], 'OriginResources@odata.count': 0, 'Protocol': 'Redfish', 'SubscriptionType': 'RedfishEvent'}\n",
      "10.243.19.212\n",
      "{'@Message.ExtendedInfo': [{'Message': 'The resource has been created successfully', 'MessageArgs': [], 'MessageArgs@odata.count': 0, 'MessageId': 'Base.1.5.Created', 'RelatedProperties': [], 'RelatedProperties@odata.count': 0, 'Resolution': 'None', 'Severity': 'OK'}, {'Message': 'A new resource is successfully created.', 'MessageArgs': [], 'MessageArgs@odata.count': 0, 'MessageId': 'IDRAC.2.1.SYS414', 'RelatedProperties': [], 'RelatedProperties@odata.count': 0, 'Resolution': 'No response action is required.', 'Severity': 'Informational'}], '@odata.context': '/redfish/v1/$metadata#EventDestination.EventDestination', '@odata.id': '/redfish/v1/EventService/Subscriptions/792548bc-8685-11ea-a602-588a5ae6e60e', '@odata.type': '#EventDestination.v1_4_0.EventDestination', 'Context': 'context string', 'Description': 'Event Subscription Details', 'Destination': 'https://gateway.alerts.minister.eaglemonk.desdp.dell.com/data/10.243.19.212', 'EventFormatType': 'Event', 'EventTypes': ['ResourceAdded', 'StatusChange', 'Alert'], 'EventTypes@odata.count': 3, 'HttpHeaders': [], 'HttpHeaders@odata.count': 0, 'Id': '792548bc-8685-11ea-a602-588a5ae6e60e', 'Name': 'EventSubscription 792548bc-8685-11ea-a602-588a5ae6e60e', 'OriginResources': [], 'OriginResources@odata.count': 0, 'Protocol': 'Redfish', 'SubscriptionType': 'RedfishEvent'}\n",
      "tiltedbarn\n",
      "10.243.61.14\n"
     ]
    },
    {
     "name": "stderr",
     "output_type": "stream",
     "text": [
      "/opt/conda/lib/python3.7/site-packages/urllib3/connectionpool.py:847: InsecureRequestWarning: Unverified HTTPS request is being made. Adding certificate verification is strongly advised. See: https://urllib3.readthedocs.io/en/latest/advanced-usage.html#ssl-warnings\n",
      "  InsecureRequestWarning)\n",
      "/opt/conda/lib/python3.7/site-packages/urllib3/connectionpool.py:847: InsecureRequestWarning: Unverified HTTPS request is being made. Adding certificate verification is strongly advised. See: https://urllib3.readthedocs.io/en/latest/advanced-usage.html#ssl-warnings\n",
      "  InsecureRequestWarning)\n"
     ]
    },
    {
     "name": "stdout",
     "output_type": "stream",
     "text": [
      "{'@Message.ExtendedInfo': [{'Message': 'The resource has been created successfully', 'MessageArgs': [], 'MessageArgs@odata.count': 0, 'MessageId': 'Base.1.5.Created', 'RelatedProperties': [], 'RelatedProperties@odata.count': 0, 'Resolution': 'None', 'Severity': 'OK'}, {'Message': 'A new resource is successfully created.', 'MessageArgs': [], 'MessageArgs@odata.count': 0, 'MessageId': 'IDRAC.2.1.SYS414', 'RelatedProperties': [], 'RelatedProperties@odata.count': 0, 'Resolution': 'No response action is required.', 'Severity': 'Informational'}], '@odata.context': '/redfish/v1/$metadata#EventDestination.EventDestination', '@odata.id': '/redfish/v1/EventService/Subscriptions/79458f28-8685-11ea-92c9-f40270d3c686', '@odata.type': '#EventDestination.v1_4_0.EventDestination', 'Context': 'context string', 'Description': 'Event Subscription Details', 'Destination': 'https://gateway.alerts.minister.eaglemonk.desdp.dell.com/data/10.243.61.14', 'EventFormatType': 'Event', 'EventTypes': ['ResourceAdded', 'StatusChange', 'Alert'], 'EventTypes@odata.count': 3, 'HttpHeaders': [], 'HttpHeaders@odata.count': 0, 'Id': '79458f28-8685-11ea-92c9-f40270d3c686', 'Name': 'EventSubscription 79458f28-8685-11ea-92c9-f40270d3c686', 'OriginResources': [], 'OriginResources@odata.count': 0, 'Protocol': 'Redfish', 'SubscriptionType': 'RedfishEvent'}\n",
      "10.243.61.15\n",
      "10.243.61.16\n"
     ]
    },
    {
     "name": "stderr",
     "output_type": "stream",
     "text": [
      "/opt/conda/lib/python3.7/site-packages/urllib3/connectionpool.py:847: InsecureRequestWarning: Unverified HTTPS request is being made. Adding certificate verification is strongly advised. See: https://urllib3.readthedocs.io/en/latest/advanced-usage.html#ssl-warnings\n",
      "  InsecureRequestWarning)\n"
     ]
    },
    {
     "name": "stdout",
     "output_type": "stream",
     "text": [
      "{'@Message.ExtendedInfo': [{'Message': 'The resource has been created successfully', 'MessageArgs': [], 'MessageArgs@odata.count': 0, 'MessageId': 'Base.1.5.Created', 'RelatedProperties': [], 'RelatedProperties@odata.count': 0, 'Resolution': 'None', 'Severity': 'OK'}, {'Message': 'A new resource is successfully created.', 'MessageArgs': [], 'MessageArgs@odata.count': 0, 'MessageId': 'IDRAC.2.1.SYS414', 'RelatedProperties': [], 'RelatedProperties@odata.count': 0, 'Resolution': 'No response action is required.', 'Severity': 'Informational'}], '@odata.context': '/redfish/v1/$metadata#EventDestination.EventDestination', '@odata.id': '/redfish/v1/EventService/Subscriptions/7cb8f064-8685-11ea-82fa-f40270d3c69e', '@odata.type': '#EventDestination.v1_4_0.EventDestination', 'Context': 'context string', 'Description': 'Event Subscription Details', 'Destination': 'https://gateway.alerts.minister.eaglemonk.desdp.dell.com/data/10.243.61.16', 'EventFormatType': 'Event', 'EventTypes': ['ResourceAdded', 'StatusChange', 'Alert'], 'EventTypes@odata.count': 3, 'HttpHeaders': [], 'HttpHeaders@odata.count': 0, 'Id': '7cb8f064-8685-11ea-82fa-f40270d3c69e', 'Name': 'EventSubscription 7cb8f064-8685-11ea-82fa-f40270d3c69e', 'OriginResources': [], 'OriginResources@odata.count': 0, 'Protocol': 'Redfish', 'SubscriptionType': 'RedfishEvent'}\n",
      "10.243.61.17\n",
      "{'@Message.ExtendedInfo': [{'Message': 'The resource has been created successfully', 'MessageArgs': [], 'MessageArgs@odata.count': 0, 'MessageId': 'Base.1.5.Created', 'RelatedProperties': [], 'RelatedProperties@odata.count': 0, 'Resolution': 'None', 'Severity': 'OK'}, {'Message': 'A new resource is successfully created.', 'MessageArgs': [], 'MessageArgs@odata.count': 0, 'MessageId': 'IDRAC.2.1.SYS414', 'RelatedProperties': [], 'RelatedProperties@odata.count': 0, 'Resolution': 'No response action is required.', 'Severity': 'Informational'}], '@odata.context': '/redfish/v1/$metadata#EventDestination.EventDestination', '@odata.id': '/redfish/v1/EventService/Subscriptions/7cd7a4fa-8685-11ea-9f91-f40270d3c956', '@odata.type': '#EventDestination.v1_4_0.EventDestination', 'Context': 'context string', 'Description': 'Event Subscription Details', 'Destination': 'https://gateway.alerts.minister.eaglemonk.desdp.dell.com/data/10.243.61.17', 'EventFormatType': 'Event', 'EventTypes': ['ResourceAdded', 'StatusChange', 'Alert'], 'EventTypes@odata.count': 3, 'HttpHeaders': [], 'HttpHeaders@odata.count': 0, 'Id': '7cd7a4fa-8685-11ea-9f91-f40270d3c956', 'Name': 'EventSubscription 7cd7a4fa-8685-11ea-9f91-f40270d3c956', 'OriginResources': [], 'OriginResources@odata.count': 0, 'Protocol': 'Redfish', 'SubscriptionType': 'RedfishEvent'}\n",
      "enki\n",
      "10.243.19.25\n"
     ]
    },
    {
     "name": "stderr",
     "output_type": "stream",
     "text": [
      "/opt/conda/lib/python3.7/site-packages/urllib3/connectionpool.py:847: InsecureRequestWarning: Unverified HTTPS request is being made. Adding certificate verification is strongly advised. See: https://urllib3.readthedocs.io/en/latest/advanced-usage.html#ssl-warnings\n",
      "  InsecureRequestWarning)\n",
      "/opt/conda/lib/python3.7/site-packages/urllib3/connectionpool.py:847: InsecureRequestWarning: Unverified HTTPS request is being made. Adding certificate verification is strongly advised. See: https://urllib3.readthedocs.io/en/latest/advanced-usage.html#ssl-warnings\n",
      "  InsecureRequestWarning)\n"
     ]
    },
    {
     "name": "stdout",
     "output_type": "stream",
     "text": [
      "{'@Message.ExtendedInfo': [{'Message': 'The resource has been created successfully', 'MessageArgs': [], 'MessageArgs@odata.count': 0, 'MessageId': 'Base.1.5.Created', 'RelatedProperties': [], 'RelatedProperties@odata.count': 0, 'Resolution': 'None', 'Severity': 'OK'}, {'Message': 'A new resource is successfully created.', 'MessageArgs': [], 'MessageArgs@odata.count': 0, 'MessageId': 'IDRAC.2.1.SYS414', 'RelatedProperties': [], 'RelatedProperties@odata.count': 0, 'Resolution': 'No response action is required.', 'Severity': 'Informational'}], '@odata.context': '/redfish/v1/$metadata#EventDestination.EventDestination', '@odata.id': '/redfish/v1/EventService/Subscriptions/7cf7e332-8685-11ea-a0a5-588a5ae6e8e4', '@odata.type': '#EventDestination.v1_4_0.EventDestination', 'Context': 'context string', 'Description': 'Event Subscription Details', 'Destination': 'https://gateway.alerts.minister.eaglemonk.desdp.dell.com/data/10.243.19.25', 'EventFormatType': 'Event', 'EventTypes': ['ResourceAdded', 'StatusChange', 'Alert'], 'EventTypes@odata.count': 3, 'HttpHeaders': [], 'HttpHeaders@odata.count': 0, 'Id': '7cf7e332-8685-11ea-a0a5-588a5ae6e8e4', 'Name': 'EventSubscription 7cf7e332-8685-11ea-a0a5-588a5ae6e8e4', 'OriginResources': [], 'OriginResources@odata.count': 0, 'Protocol': 'Redfish', 'SubscriptionType': 'RedfishEvent'}\n",
      "10.243.19.26\n"
     ]
    },
    {
     "name": "stderr",
     "output_type": "stream",
     "text": [
      "/opt/conda/lib/python3.7/site-packages/urllib3/connectionpool.py:847: InsecureRequestWarning: Unverified HTTPS request is being made. Adding certificate verification is strongly advised. See: https://urllib3.readthedocs.io/en/latest/advanced-usage.html#ssl-warnings\n",
      "  InsecureRequestWarning)\n"
     ]
    },
    {
     "name": "stdout",
     "output_type": "stream",
     "text": [
      "{'@Message.ExtendedInfo': [{'Message': 'The resource has been created successfully', 'MessageArgs': [], 'MessageArgs@odata.count': 0, 'MessageId': 'Base.1.5.Created', 'RelatedProperties': [], 'RelatedProperties@odata.count': 0, 'Resolution': 'None', 'Severity': 'OK'}, {'Message': 'A new resource is successfully created.', 'MessageArgs': [], 'MessageArgs@odata.count': 0, 'MessageId': 'IDRAC.2.1.SYS414', 'RelatedProperties': [], 'RelatedProperties@odata.count': 0, 'Resolution': 'No response action is required.', 'Severity': 'Informational'}], '@odata.context': '/redfish/v1/$metadata#EventDestination.EventDestination', '@odata.id': '/redfish/v1/EventService/Subscriptions/7d2a3f44-8685-11ea-a237-588a5ae6e650', '@odata.type': '#EventDestination.v1_4_0.EventDestination', 'Context': 'context string', 'Description': 'Event Subscription Details', 'Destination': 'https://gateway.alerts.minister.eaglemonk.desdp.dell.com/data/10.243.19.26', 'EventFormatType': 'Event', 'EventTypes': ['ResourceAdded', 'StatusChange', 'Alert'], 'EventTypes@odata.count': 3, 'HttpHeaders': [], 'HttpHeaders@odata.count': 0, 'Id': '7d2a3f44-8685-11ea-a237-588a5ae6e650', 'Name': 'EventSubscription 7d2a3f44-8685-11ea-a237-588a5ae6e650', 'OriginResources': [], 'OriginResources@odata.count': 0, 'Protocol': 'Redfish', 'SubscriptionType': 'RedfishEvent'}\n",
      "10.243.19.27\n"
     ]
    },
    {
     "name": "stderr",
     "output_type": "stream",
     "text": [
      "/opt/conda/lib/python3.7/site-packages/urllib3/connectionpool.py:847: InsecureRequestWarning: Unverified HTTPS request is being made. Adding certificate verification is strongly advised. See: https://urllib3.readthedocs.io/en/latest/advanced-usage.html#ssl-warnings\n",
      "  InsecureRequestWarning)\n"
     ]
    },
    {
     "name": "stdout",
     "output_type": "stream",
     "text": [
      "{'@Message.ExtendedInfo': [{'Message': 'The resource has been created successfully', 'MessageArgs': [], 'MessageArgs@odata.count': 0, 'MessageId': 'Base.1.5.Created', 'RelatedProperties': [], 'RelatedProperties@odata.count': 0, 'Resolution': 'None', 'Severity': 'OK'}, {'Message': 'A new resource is successfully created.', 'MessageArgs': [], 'MessageArgs@odata.count': 0, 'MessageId': 'IDRAC.2.1.SYS414', 'RelatedProperties': [], 'RelatedProperties@odata.count': 0, 'Resolution': 'No response action is required.', 'Severity': 'Informational'}], '@odata.context': '/redfish/v1/$metadata#EventDestination.EventDestination', '@odata.id': '/redfish/v1/EventService/Subscriptions/7d55123c-8685-11ea-bf74-4cd98f11e198', '@odata.type': '#EventDestination.v1_4_0.EventDestination', 'Context': 'context string', 'Description': 'Event Subscription Details', 'Destination': 'https://gateway.alerts.minister.eaglemonk.desdp.dell.com/data/10.243.19.27', 'EventFormatType': 'Event', 'EventTypes': ['ResourceAdded', 'StatusChange', 'Alert'], 'EventTypes@odata.count': 3, 'HttpHeaders': [], 'HttpHeaders@odata.count': 0, 'Id': '7d55123c-8685-11ea-bf74-4cd98f11e198', 'Name': 'EventSubscription 7d55123c-8685-11ea-bf74-4cd98f11e198', 'OriginResources': [], 'OriginResources@odata.count': 0, 'Protocol': 'Redfish', 'SubscriptionType': 'RedfishEvent'}\n",
      "10.243.19.28\n",
      "{'@Message.ExtendedInfo': [{'Message': 'The resource has been created successfully', 'MessageArgs': [], 'MessageArgs@odata.count': 0, 'MessageId': 'Base.1.5.Created', 'RelatedProperties': [], 'RelatedProperties@odata.count': 0, 'Resolution': 'None', 'Severity': 'OK'}, {'Message': 'A new resource is successfully created.', 'MessageArgs': [], 'MessageArgs@odata.count': 0, 'MessageId': 'IDRAC.2.1.SYS414', 'RelatedProperties': [], 'RelatedProperties@odata.count': 0, 'Resolution': 'No response action is required.', 'Severity': 'Informational'}], '@odata.context': '/redfish/v1/$metadata#EventDestination.EventDestination', '@odata.id': '/redfish/v1/EventService/Subscriptions/7d741786-8685-11ea-8f85-4cd98f121240', '@odata.type': '#EventDestination.v1_4_0.EventDestination', 'Context': 'context string', 'Description': 'Event Subscription Details', 'Destination': 'https://gateway.alerts.minister.eaglemonk.desdp.dell.com/data/10.243.19.28', 'EventFormatType': 'Event', 'EventTypes': ['ResourceAdded', 'StatusChange', 'Alert'], 'EventTypes@odata.count': 3, 'HttpHeaders': [], 'HttpHeaders@odata.count': 0, 'Id': '7d741786-8685-11ea-8f85-4cd98f121240', 'Name': 'EventSubscription 7d741786-8685-11ea-8f85-4cd98f121240', 'OriginResources': [], 'OriginResources@odata.count': 0, 'Protocol': 'Redfish', 'SubscriptionType': 'RedfishEvent'}\n",
      "10.243.19.29\n"
     ]
    },
    {
     "name": "stderr",
     "output_type": "stream",
     "text": [
      "/opt/conda/lib/python3.7/site-packages/urllib3/connectionpool.py:847: InsecureRequestWarning: Unverified HTTPS request is being made. Adding certificate verification is strongly advised. See: https://urllib3.readthedocs.io/en/latest/advanced-usage.html#ssl-warnings\n",
      "  InsecureRequestWarning)\n",
      "/opt/conda/lib/python3.7/site-packages/urllib3/connectionpool.py:847: InsecureRequestWarning: Unverified HTTPS request is being made. Adding certificate verification is strongly advised. See: https://urllib3.readthedocs.io/en/latest/advanced-usage.html#ssl-warnings\n",
      "  InsecureRequestWarning)\n"
     ]
    },
    {
     "name": "stdout",
     "output_type": "stream",
     "text": [
      "{'@Message.ExtendedInfo': [{'Message': 'The resource has been created successfully', 'MessageArgs': [], 'MessageArgs@odata.count': 0, 'MessageId': 'Base.1.5.Created', 'RelatedProperties': [], 'RelatedProperties@odata.count': 0, 'Resolution': 'None', 'Severity': 'OK'}, {'Message': 'A new resource is successfully created.', 'MessageArgs': [], 'MessageArgs@odata.count': 0, 'MessageId': 'IDRAC.2.1.SYS414', 'RelatedProperties': [], 'RelatedProperties@odata.count': 0, 'Resolution': 'No response action is required.', 'Severity': 'Informational'}], '@odata.context': '/redfish/v1/$metadata#EventDestination.EventDestination', '@odata.id': '/redfish/v1/EventService/Subscriptions/7da0d136-8685-11ea-bdf9-4cd98f0f6a6e', '@odata.type': '#EventDestination.v1_4_0.EventDestination', 'Context': 'context string', 'Description': 'Event Subscription Details', 'Destination': 'https://gateway.alerts.minister.eaglemonk.desdp.dell.com/data/10.243.19.29', 'EventFormatType': 'Event', 'EventTypes': ['ResourceAdded', 'StatusChange', 'Alert'], 'EventTypes@odata.count': 3, 'HttpHeaders': [], 'HttpHeaders@odata.count': 0, 'Id': '7da0d136-8685-11ea-bdf9-4cd98f0f6a6e', 'Name': 'EventSubscription 7da0d136-8685-11ea-bdf9-4cd98f0f6a6e', 'OriginResources': [], 'OriginResources@odata.count': 0, 'Protocol': 'Redfish', 'SubscriptionType': 'RedfishEvent'}\n",
      "10.243.19.172\n"
     ]
    },
    {
     "name": "stderr",
     "output_type": "stream",
     "text": [
      "/opt/conda/lib/python3.7/site-packages/urllib3/connectionpool.py:847: InsecureRequestWarning: Unverified HTTPS request is being made. Adding certificate verification is strongly advised. See: https://urllib3.readthedocs.io/en/latest/advanced-usage.html#ssl-warnings\n",
      "  InsecureRequestWarning)\n"
     ]
    },
    {
     "name": "stdout",
     "output_type": "stream",
     "text": [
      "{'@Message.ExtendedInfo': [{'Message': 'The resource has been created successfully', 'MessageArgs': [], 'MessageArgs@odata.count': 0, 'MessageId': 'Base.1.5.Created', 'RelatedProperties': [], 'RelatedProperties@odata.count': 0, 'Resolution': 'None', 'Severity': 'OK'}, {'Message': 'A new resource is successfully created.', 'MessageArgs': [], 'MessageArgs@odata.count': 0, 'MessageId': 'IDRAC.2.1.SYS414', 'RelatedProperties': [], 'RelatedProperties@odata.count': 0, 'Resolution': 'No response action is required.', 'Severity': 'Informational'}], '@odata.context': '/redfish/v1/$metadata#EventDestination.EventDestination', '@odata.id': '/redfish/v1/EventService/Subscriptions/7dc7992e-8685-11ea-90fa-4cd98f100d2c', '@odata.type': '#EventDestination.v1_4_0.EventDestination', 'Context': 'context string', 'Description': 'Event Subscription Details', 'Destination': 'https://gateway.alerts.minister.eaglemonk.desdp.dell.com/data/10.243.19.172', 'EventFormatType': 'Event', 'EventTypes': ['ResourceAdded', 'StatusChange', 'Alert'], 'EventTypes@odata.count': 3, 'HttpHeaders': [], 'HttpHeaders@odata.count': 0, 'Id': '7dc7992e-8685-11ea-90fa-4cd98f100d2c', 'Name': 'EventSubscription 7dc7992e-8685-11ea-90fa-4cd98f100d2c', 'OriginResources': [], 'OriginResources@odata.count': 0, 'Protocol': 'Redfish', 'SubscriptionType': 'RedfishEvent'}\n",
      "10.243.19.173\n",
      "{'@Message.ExtendedInfo': [{'Message': 'The resource has been created successfully', 'MessageArgs': [], 'MessageArgs@odata.count': 0, 'MessageId': 'Base.1.5.Created', 'RelatedProperties': [], 'RelatedProperties@odata.count': 0, 'Resolution': 'None', 'Severity': 'OK'}, {'Message': 'A new resource is successfully created.', 'MessageArgs': [], 'MessageArgs@odata.count': 0, 'MessageId': 'IDRAC.2.1.SYS414', 'RelatedProperties': [], 'RelatedProperties@odata.count': 0, 'Resolution': 'No response action is required.', 'Severity': 'Informational'}], '@odata.context': '/redfish/v1/$metadata#EventDestination.EventDestination', '@odata.id': '/redfish/v1/EventService/Subscriptions/7de9fbea-8685-11ea-80eb-4cd98f0f6b9a', '@odata.type': '#EventDestination.v1_4_0.EventDestination', 'Context': 'context string', 'Description': 'Event Subscription Details', 'Destination': 'https://gateway.alerts.minister.eaglemonk.desdp.dell.com/data/10.243.19.173', 'EventFormatType': 'Event', 'EventTypes': ['ResourceAdded', 'StatusChange', 'Alert'], 'EventTypes@odata.count': 3, 'HttpHeaders': [], 'HttpHeaders@odata.count': 0, 'Id': '7de9fbea-8685-11ea-80eb-4cd98f0f6b9a', 'Name': 'EventSubscription 7de9fbea-8685-11ea-80eb-4cd98f0f6b9a', 'OriginResources': [], 'OriginResources@odata.count': 0, 'Protocol': 'Redfish', 'SubscriptionType': 'RedfishEvent'}\n",
      "10.243.19.174\n"
     ]
    },
    {
     "name": "stderr",
     "output_type": "stream",
     "text": [
      "/opt/conda/lib/python3.7/site-packages/urllib3/connectionpool.py:847: InsecureRequestWarning: Unverified HTTPS request is being made. Adding certificate verification is strongly advised. See: https://urllib3.readthedocs.io/en/latest/advanced-usage.html#ssl-warnings\n",
      "  InsecureRequestWarning)\n",
      "/opt/conda/lib/python3.7/site-packages/urllib3/connectionpool.py:847: InsecureRequestWarning: Unverified HTTPS request is being made. Adding certificate verification is strongly advised. See: https://urllib3.readthedocs.io/en/latest/advanced-usage.html#ssl-warnings\n",
      "  InsecureRequestWarning)\n"
     ]
    },
    {
     "name": "stdout",
     "output_type": "stream",
     "text": [
      "{'@Message.ExtendedInfo': [{'Message': 'The resource has been created successfully', 'MessageArgs': [], 'MessageArgs@odata.count': 0, 'MessageId': 'Base.1.5.Created', 'RelatedProperties': [], 'RelatedProperties@odata.count': 0, 'Resolution': 'None', 'Severity': 'OK'}, {'Message': 'A new resource is successfully created.', 'MessageArgs': [], 'MessageArgs@odata.count': 0, 'MessageId': 'IDRAC.2.1.SYS414', 'RelatedProperties': [], 'RelatedProperties@odata.count': 0, 'Resolution': 'No response action is required.', 'Severity': 'Informational'}], '@odata.context': '/redfish/v1/$metadata#EventDestination.EventDestination', '@odata.id': '/redfish/v1/EventService/Subscriptions/7e0a77e4-8685-11ea-9b92-4cd98f102b56', '@odata.type': '#EventDestination.v1_4_0.EventDestination', 'Context': 'context string', 'Description': 'Event Subscription Details', 'Destination': 'https://gateway.alerts.minister.eaglemonk.desdp.dell.com/data/10.243.19.174', 'EventFormatType': 'Event', 'EventTypes': ['ResourceAdded', 'StatusChange', 'Alert'], 'EventTypes@odata.count': 3, 'HttpHeaders': [], 'HttpHeaders@odata.count': 0, 'Id': '7e0a77e4-8685-11ea-9b92-4cd98f102b56', 'Name': 'EventSubscription 7e0a77e4-8685-11ea-9b92-4cd98f102b56', 'OriginResources': [], 'OriginResources@odata.count': 0, 'Protocol': 'Redfish', 'SubscriptionType': 'RedfishEvent'}\n",
      "10.243.19.175\n"
     ]
    },
    {
     "name": "stderr",
     "output_type": "stream",
     "text": [
      "/opt/conda/lib/python3.7/site-packages/urllib3/connectionpool.py:847: InsecureRequestWarning: Unverified HTTPS request is being made. Adding certificate verification is strongly advised. See: https://urllib3.readthedocs.io/en/latest/advanced-usage.html#ssl-warnings\n",
      "  InsecureRequestWarning)\n"
     ]
    },
    {
     "name": "stdout",
     "output_type": "stream",
     "text": [
      "{'@Message.ExtendedInfo': [{'Message': 'The resource has been created successfully', 'MessageArgs': [], 'MessageArgs@odata.count': 0, 'MessageId': 'Base.1.5.Created', 'RelatedProperties': [], 'RelatedProperties@odata.count': 0, 'Resolution': 'None', 'Severity': 'OK'}, {'Message': 'A new resource is successfully created.', 'MessageArgs': [], 'MessageArgs@odata.count': 0, 'MessageId': 'IDRAC.2.1.SYS414', 'RelatedProperties': [], 'RelatedProperties@odata.count': 0, 'Resolution': 'No response action is required.', 'Severity': 'Informational'}], '@odata.context': '/redfish/v1/$metadata#EventDestination.EventDestination', '@odata.id': '/redfish/v1/EventService/Subscriptions/7e32c2bc-8685-11ea-a394-4cd98f0f6b94', '@odata.type': '#EventDestination.v1_4_0.EventDestination', 'Context': 'context string', 'Description': 'Event Subscription Details', 'Destination': 'https://gateway.alerts.minister.eaglemonk.desdp.dell.com/data/10.243.19.175', 'EventFormatType': 'Event', 'EventTypes': ['ResourceAdded', 'StatusChange', 'Alert'], 'EventTypes@odata.count': 3, 'HttpHeaders': [], 'HttpHeaders@odata.count': 0, 'Id': '7e32c2bc-8685-11ea-a394-4cd98f0f6b94', 'Name': 'EventSubscription 7e32c2bc-8685-11ea-a394-4cd98f0f6b94', 'OriginResources': [], 'OriginResources@odata.count': 0, 'Protocol': 'Redfish', 'SubscriptionType': 'RedfishEvent'}\n",
      "10.243.19.176\n"
     ]
    },
    {
     "name": "stderr",
     "output_type": "stream",
     "text": [
      "/opt/conda/lib/python3.7/site-packages/urllib3/connectionpool.py:847: InsecureRequestWarning: Unverified HTTPS request is being made. Adding certificate verification is strongly advised. See: https://urllib3.readthedocs.io/en/latest/advanced-usage.html#ssl-warnings\n",
      "  InsecureRequestWarning)\n"
     ]
    },
    {
     "name": "stdout",
     "output_type": "stream",
     "text": [
      "{'@Message.ExtendedInfo': [{'Message': 'The resource has been created successfully', 'MessageArgs': [], 'MessageArgs@odata.count': 0, 'MessageId': 'Base.1.5.Created', 'RelatedProperties': [], 'RelatedProperties@odata.count': 0, 'Resolution': 'None', 'Severity': 'OK'}, {'Message': 'A new resource is successfully created.', 'MessageArgs': [], 'MessageArgs@odata.count': 0, 'MessageId': 'IDRAC.2.1.SYS414', 'RelatedProperties': [], 'RelatedProperties@odata.count': 0, 'Resolution': 'No response action is required.', 'Severity': 'Informational'}], '@odata.context': '/redfish/v1/$metadata#EventDestination.EventDestination', '@odata.id': '/redfish/v1/EventService/Subscriptions/7e5851bc-8685-11ea-93dc-4cd98f101ee4', '@odata.type': '#EventDestination.v1_4_0.EventDestination', 'Context': 'context string', 'Description': 'Event Subscription Details', 'Destination': 'https://gateway.alerts.minister.eaglemonk.desdp.dell.com/data/10.243.19.176', 'EventFormatType': 'Event', 'EventTypes': ['ResourceAdded', 'StatusChange', 'Alert'], 'EventTypes@odata.count': 3, 'HttpHeaders': [], 'HttpHeaders@odata.count': 0, 'Id': '7e5851bc-8685-11ea-93dc-4cd98f101ee4', 'Name': 'EventSubscription 7e5851bc-8685-11ea-93dc-4cd98f101ee4', 'OriginResources': [], 'OriginResources@odata.count': 0, 'Protocol': 'Redfish', 'SubscriptionType': 'RedfishEvent'}\n",
      "10.243.19.177\n"
     ]
    },
    {
     "name": "stderr",
     "output_type": "stream",
     "text": [
      "/opt/conda/lib/python3.7/site-packages/urllib3/connectionpool.py:847: InsecureRequestWarning: Unverified HTTPS request is being made. Adding certificate verification is strongly advised. See: https://urllib3.readthedocs.io/en/latest/advanced-usage.html#ssl-warnings\n",
      "  InsecureRequestWarning)\n"
     ]
    },
    {
     "name": "stdout",
     "output_type": "stream",
     "text": [
      "{'@Message.ExtendedInfo': [{'Message': 'The resource has been created successfully', 'MessageArgs': [], 'MessageArgs@odata.count': 0, 'MessageId': 'Base.1.5.Created', 'RelatedProperties': [], 'RelatedProperties@odata.count': 0, 'Resolution': 'None', 'Severity': 'OK'}, {'Message': 'A new resource is successfully created.', 'MessageArgs': [], 'MessageArgs@odata.count': 0, 'MessageId': 'IDRAC.2.1.SYS414', 'RelatedProperties': [], 'RelatedProperties@odata.count': 0, 'Resolution': 'No response action is required.', 'Severity': 'Informational'}], '@odata.context': '/redfish/v1/$metadata#EventDestination.EventDestination', '@odata.id': '/redfish/v1/EventService/Subscriptions/7e8e6d6a-8685-11ea-b265-4cd98f101b48', '@odata.type': '#EventDestination.v1_4_0.EventDestination', 'Context': 'context string', 'Description': 'Event Subscription Details', 'Destination': 'https://gateway.alerts.minister.eaglemonk.desdp.dell.com/data/10.243.19.177', 'EventFormatType': 'Event', 'EventTypes': ['ResourceAdded', 'StatusChange', 'Alert'], 'EventTypes@odata.count': 3, 'HttpHeaders': [], 'HttpHeaders@odata.count': 0, 'Id': '7e8e6d6a-8685-11ea-b265-4cd98f101b48', 'Name': 'EventSubscription 7e8e6d6a-8685-11ea-b265-4cd98f101b48', 'OriginResources': [], 'OriginResources@odata.count': 0, 'Protocol': 'Redfish', 'SubscriptionType': 'RedfishEvent'}\n",
      "10.243.19.178\n"
     ]
    },
    {
     "name": "stderr",
     "output_type": "stream",
     "text": [
      "/opt/conda/lib/python3.7/site-packages/urllib3/connectionpool.py:847: InsecureRequestWarning: Unverified HTTPS request is being made. Adding certificate verification is strongly advised. See: https://urllib3.readthedocs.io/en/latest/advanced-usage.html#ssl-warnings\n",
      "  InsecureRequestWarning)\n"
     ]
    },
    {
     "name": "stdout",
     "output_type": "stream",
     "text": [
      "{'@Message.ExtendedInfo': [{'Message': 'The resource has been created successfully', 'MessageArgs': [], 'MessageArgs@odata.count': 0, 'MessageId': 'Base.1.5.Created', 'RelatedProperties': [], 'RelatedProperties@odata.count': 0, 'Resolution': 'None', 'Severity': 'OK'}, {'Message': 'A new resource is successfully created.', 'MessageArgs': [], 'MessageArgs@odata.count': 0, 'MessageId': 'IDRAC.2.1.SYS414', 'RelatedProperties': [], 'RelatedProperties@odata.count': 0, 'Resolution': 'No response action is required.', 'Severity': 'Informational'}], '@odata.context': '/redfish/v1/$metadata#EventDestination.EventDestination', '@odata.id': '/redfish/v1/EventService/Subscriptions/7f15b16c-8685-11ea-bd65-4cd98f121fd2', '@odata.type': '#EventDestination.v1_4_0.EventDestination', 'Context': 'context string', 'Description': 'Event Subscription Details', 'Destination': 'https://gateway.alerts.minister.eaglemonk.desdp.dell.com/data/10.243.19.178', 'EventFormatType': 'Event', 'EventTypes': ['ResourceAdded', 'StatusChange', 'Alert'], 'EventTypes@odata.count': 3, 'HttpHeaders': [], 'HttpHeaders@odata.count': 0, 'Id': '7f15b16c-8685-11ea-bd65-4cd98f121fd2', 'Name': 'EventSubscription 7f15b16c-8685-11ea-bd65-4cd98f121fd2', 'OriginResources': [], 'OriginResources@odata.count': 0, 'Protocol': 'Redfish', 'SubscriptionType': 'RedfishEvent'}\n",
      "10.243.19.179\n"
     ]
    },
    {
     "name": "stderr",
     "output_type": "stream",
     "text": [
      "/opt/conda/lib/python3.7/site-packages/urllib3/connectionpool.py:847: InsecureRequestWarning: Unverified HTTPS request is being made. Adding certificate verification is strongly advised. See: https://urllib3.readthedocs.io/en/latest/advanced-usage.html#ssl-warnings\n",
      "  InsecureRequestWarning)\n"
     ]
    },
    {
     "name": "stdout",
     "output_type": "stream",
     "text": [
      "{'@Message.ExtendedInfo': [{'Message': 'The resource has been created successfully', 'MessageArgs': [], 'MessageArgs@odata.count': 0, 'MessageId': 'Base.1.5.Created', 'RelatedProperties': [], 'RelatedProperties@odata.count': 0, 'Resolution': 'None', 'Severity': 'OK'}, {'Message': 'A new resource is successfully created.', 'MessageArgs': [], 'MessageArgs@odata.count': 0, 'MessageId': 'IDRAC.2.1.SYS414', 'RelatedProperties': [], 'RelatedProperties@odata.count': 0, 'Resolution': 'No response action is required.', 'Severity': 'Informational'}], '@odata.context': '/redfish/v1/$metadata#EventDestination.EventDestination', '@odata.id': '/redfish/v1/EventService/Subscriptions/7f455246-8685-11ea-b773-4cd98f121d74', '@odata.type': '#EventDestination.v1_4_0.EventDestination', 'Context': 'context string', 'Description': 'Event Subscription Details', 'Destination': 'https://gateway.alerts.minister.eaglemonk.desdp.dell.com/data/10.243.19.179', 'EventFormatType': 'Event', 'EventTypes': ['ResourceAdded', 'StatusChange', 'Alert'], 'EventTypes@odata.count': 3, 'HttpHeaders': [], 'HttpHeaders@odata.count': 0, 'Id': '7f455246-8685-11ea-b773-4cd98f121d74', 'Name': 'EventSubscription 7f455246-8685-11ea-b773-4cd98f121d74', 'OriginResources': [], 'OriginResources@odata.count': 0, 'Protocol': 'Redfish', 'SubscriptionType': 'RedfishEvent'}\n",
      "10.243.19.180\n",
      "{'@Message.ExtendedInfo': [{'Message': 'The resource has been created successfully', 'MessageArgs': [], 'MessageArgs@odata.count': 0, 'MessageId': 'Base.1.5.Created', 'RelatedProperties': [], 'RelatedProperties@odata.count': 0, 'Resolution': 'None', 'Severity': 'OK'}, {'Message': 'A new resource is successfully created.', 'MessageArgs': [], 'MessageArgs@odata.count': 0, 'MessageId': 'IDRAC.2.1.SYS414', 'RelatedProperties': [], 'RelatedProperties@odata.count': 0, 'Resolution': 'No response action is required.', 'Severity': 'Informational'}], '@odata.context': '/redfish/v1/$metadata#EventDestination.EventDestination', '@odata.id': '/redfish/v1/EventService/Subscriptions/7f63a89a-8685-11ea-944a-4cd98f122110', '@odata.type': '#EventDestination.v1_4_0.EventDestination', 'Context': 'context string', 'Description': 'Event Subscription Details', 'Destination': 'https://gateway.alerts.minister.eaglemonk.desdp.dell.com/data/10.243.19.180', 'EventFormatType': 'Event', 'EventTypes': ['ResourceAdded', 'StatusChange', 'Alert'], 'EventTypes@odata.count': 3, 'HttpHeaders': [], 'HttpHeaders@odata.count': 0, 'Id': '7f63a89a-8685-11ea-944a-4cd98f122110', 'Name': 'EventSubscription 7f63a89a-8685-11ea-944a-4cd98f122110', 'OriginResources': [], 'OriginResources@odata.count': 0, 'Protocol': 'Redfish', 'SubscriptionType': 'RedfishEvent'}\n"
     ]
    },
    {
     "name": "stderr",
     "output_type": "stream",
     "text": [
      "/opt/conda/lib/python3.7/site-packages/urllib3/connectionpool.py:847: InsecureRequestWarning: Unverified HTTPS request is being made. Adding certificate verification is strongly advised. See: https://urllib3.readthedocs.io/en/latest/advanced-usage.html#ssl-warnings\n",
      "  InsecureRequestWarning)\n"
     ]
    }
   ],
   "source": [
    "user = os.environ.get('IDRAC_USER', 'root')\n",
    "password = os.environ.get('IDRAC_PASSWORD', 'passwd')\n",
    "headers = {'Content-Type': 'application/json', 'Accept': 'application/json'}\n",
    "gateway = \"https://gateway.alerts.minister.eaglemonk.desdp.dell.com\"\n",
    "# POST /redfish/v1/EventService/Subscriptions\n",
    "#     {\n",
    "#             \"Context\": \"context string\",\n",
    "#             \"Description\": \"Event Subscription Details\",\n",
    "#             \"Destination\": \"<pravega gateway>\",\n",
    "#             \"EventTypes\": [\n",
    "#             \"ResourceAdded\",\n",
    "#             \"StatusChange\",\n",
    "#                 \"Alert\"\n",
    "#             ],\n",
    "#             \"Id\": \"id\",\n",
    "#             \"Name\": \"name\",\n",
    "#             \"Protocol\": \"Redfish\"\n",
    "#     }\n",
    "\n",
    "\n",
    "\n",
    "\n",
    "########## Calculate total memory availableper rack per server\n",
    "dfs = pandas.DataFrame()\n",
    "total_memory = []\n",
    "for k, v in racks.items():\n",
    "    print(k)\n",
    "    for ip in v:\n",
    "        print(ip)\n",
    "        try:\n",
    "            response = requests.post('https://{0}/redfish/v1/EventService/Subscriptions'.format(ip), json=create_payload(gateway, ip), auth=HTTPBasicAuth(user, password), verify=False, timeout=5)\n",
    "            data = json.loads(response.text)\n",
    "            print(data)\n",
    "        except:\n",
    "            pass"
   ]
  },
  {
   "cell_type": "code",
   "execution_count": null,
   "metadata": {},
   "outputs": [],
   "source": []
  }
 ],
 "metadata": {
  "kernelspec": {
   "display_name": "Python 3",
   "language": "python",
   "name": "python3"
  },
  "language_info": {
   "codemirror_mode": {
    "name": "ipython",
    "version": 3
   },
   "file_extension": ".py",
   "mimetype": "text/x-python",
   "name": "python",
   "nbconvert_exporter": "python",
   "pygments_lexer": "ipython3",
   "version": "3.7.3"
  }
 },
 "nbformat": 4,
 "nbformat_minor": 2
}
