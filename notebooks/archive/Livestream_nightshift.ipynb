{
 "cells": [
  {
   "cell_type": "code",
   "execution_count": 1,
   "metadata": {},
   "outputs": [],
   "source": [
    "import pandas\n",
    "from IPython.display import clear_output\n",
    "import matplotlib.pyplot as plt\n",
    "from praveganb.idracdemo import *\n",
    "import collections\n",
    "%matplotlib inline"
   ]
  },
  {
   "cell_type": "code",
   "execution_count": 2,
   "metadata": {},
   "outputs": [],
   "source": [
    "idracdata = IdracData(scope='idracdemo', stream='idracdata', gateway='pravega-grpc-gateway:80')"
   ]
  },
  {
   "cell_type": "code",
   "execution_count": null,
   "metadata": {},
   "outputs": [],
   "source": [
    "%store -r stream_end\n",
    "read_events = idracdata.get_data_from_idrac_generator_by_id(from_stream_cut=stream_end,\n",
    "                                        data_id='CUPS',\n",
    "                                        rack_label='nightshift')\n",
    "data  = dict.fromkeys(['MemoryUsage', 'CPUUsage', 'IOUsage', 'SystemUsage'], dict())\n",
    "\n",
    "for k, v in data.items():\n",
    "    data[k] = pandas.DataFrame() \n",
    "\n",
    "for _report in read_events:\n",
    "    clear_output(wait=True)\n",
    "    fig, axes = plt.subplots(nrows=len(data), ncols=1)\n",
    "    df = pandas.DataFrame(_report, index=[1])\n",
    "    df['Timestamp'] = pandas.to_datetime(df['Timestamp'],\n",
    "                               format=\"%Y-%m-%dT%H:%M:%S.%fZ\")\n",
    "    df.set_index('Timestamp', inplace=True)\n",
    "    if data[_report['MetricId']].empty:\n",
    "        data[_report['MetricId']] = df\n",
    "    else:\n",
    "        data[_report['MetricId']] = data[_report['MetricId']].append(df)\n",
    "    i = 0\n",
    "    for k, v in data.items():\n",
    "        if data[k].empty:\n",
    "            continue\n",
    "        data[k].groupby('RemoteAddr')['avg'].plot(ax=axes[i], figsize=(20,15), grid=True)\n",
    "        \n",
    "        axes[i].set_ylabel(k)\n",
    "        if i == 0 :\n",
    "            axes[i].set_title('nightshift')\n",
    "            axes[i].legend(loc='center left')\n",
    "        i+=1\n",
    "    plt.show()\n",
    "    "
   ]
  },
  {
   "cell_type": "code",
   "execution_count": null,
   "metadata": {},
   "outputs": [],
   "source": []
  }
 ],
 "metadata": {
  "kernelspec": {
   "display_name": "Python 3",
   "language": "python",
   "name": "python3"
  },
  "language_info": {
   "codemirror_mode": {
    "name": "ipython",
    "version": 3
   },
   "file_extension": ".py",
   "mimetype": "text/x-python",
   "name": "python",
   "nbconvert_exporter": "python",
   "pygments_lexer": "ipython3",
   "version": "3.7.3"
  }
 },
 "nbformat": 4,
 "nbformat_minor": 2
}
