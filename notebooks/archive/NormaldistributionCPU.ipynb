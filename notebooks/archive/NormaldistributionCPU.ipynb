{
 "cells": [
  {
   "cell_type": "code",
   "execution_count": 14,
   "metadata": {},
   "outputs": [],
   "source": [
    "import pandas\n",
    "from pandas.io.json import json_normalize\n",
    "from IPython.display import display, clear_output\n",
    "import matplotlib.pyplot as plt\n",
    "import time\n",
    "from praveganb.pravega_stream import *\n",
    "import grpc\n",
    "import simplejson as json\n",
    "import collections\n",
    "from scipy.stats import norm\n",
    "import numpy as np\n",
    "import collections\n",
    "import math\n",
    "%matplotlib inline"
   ]
  },
  {
   "cell_type": "code",
   "execution_count": 15,
   "metadata": {},
   "outputs": [],
   "source": [
    "gateway = '10.243.37.127:80'\n",
    "scope = 'idracdemo'\n",
    "stream = 'idracdata'"
   ]
  },
  {
   "cell_type": "code",
   "execution_count": 16,
   "metadata": {},
   "outputs": [],
   "source": [
    "pravega_channel = grpc.insecure_channel(gateway)\n",
    "pravega_client = pravega.grpc.PravegaGatewayStub(pravega_channel)"
   ]
  },
  {
   "cell_type": "code",
   "execution_count": 17,
   "metadata": {},
   "outputs": [
    {
     "data": {
      "text/plain": [
       "head_stream_cut {\n",
       "  text: \"H4sIAAAAAAAAADOwykwpSkxOSc3N14ewEksSrUx0THWMrQx0gBBCAgCqKE54JwAAAA==\"\n",
       "  cut {\n",
       "    key: 3\n",
       "    value: 0\n",
       "  }\n",
       "  cut {\n",
       "    key: 4\n",
       "    value: 0\n",
       "  }\n",
       "  cut {\n",
       "    key: 5\n",
       "    value: 0\n",
       "  }\n",
       "}\n",
       "tail_stream_cut {\n",
       "  text: \"H4sIAAAAAAAAADOwykwpSkxOSc3N14ewEksSrUx0THWMrQx0gNDK2MzA1NTA3NTSXMfYxNLS1NLA0tAYyASKGFuYWhgDAOgnLIdCAAAA\"\n",
       "  cut {\n",
       "    key: 3\n",
       "    value: 3475938583\n",
       "  }\n",
       "  cut {\n",
       "    key: 4\n",
       "    value: 3605507597\n",
       "  }\n",
       "  cut {\n",
       "    key: 5\n",
       "    value: 3499590913\n",
       "  }\n",
       "}"
      ]
     },
     "execution_count": 17,
     "metadata": {},
     "output_type": "execute_result"
    }
   ],
   "source": [
    "unindexed_stream = UnindexedStream(pravega_client, scope, stream)\n",
    "stream_info = unindexed_stream.get_stream_info()\n",
    "stream_info"
   ]
  },
  {
   "cell_type": "code",
   "execution_count": 18,
   "metadata": {},
   "outputs": [
    {
     "data": {
      "text/plain": [
       "3605.507597"
      ]
     },
     "execution_count": 18,
     "metadata": {},
     "output_type": "execute_result"
    }
   ],
   "source": [
    "stream_size_MB = (list(stream_info.tail_stream_cut.cut.values())[0] - list(stream_info.head_stream_cut.cut.values())[0]) * 1e-6\n",
    "stream_size_MB"
   ]
  },
  {
   "cell_type": "code",
   "execution_count": 19,
   "metadata": {},
   "outputs": [],
   "source": [
    "anchorsteam = [\n",
    "    '10.243.19.152',\n",
    "    '10.243.19.153',\n",
    "    '10.243.19.154',\n",
    "    '10.243.19.155',\n",
    "    '10.243.19.156',\n",
    "    '10.243.19.157',\n",
    "    '10.243.19.158'\n",
    "              ]\n",
    "eaglemonk = [ \n",
    "    '10.243.19.70',\n",
    "    '10.243.19.72', \n",
    "    '10.243.19.74' , \n",
    "    '10.243.19.76', \n",
    "    '10.243.19.78', \n",
    "    '10.243.19.80', \n",
    "    '10.243.19.82',\n",
    "    '10.243.19.84'\n",
    "            ]"
   ]
  },
  {
   "cell_type": "code",
   "execution_count": 20,
   "metadata": {},
   "outputs": [
    {
     "data": {
      "text/html": [
       "<div>\n",
       "<style scoped>\n",
       "    .dataframe tbody tr th:only-of-type {\n",
       "        vertical-align: middle;\n",
       "    }\n",
       "\n",
       "    .dataframe tbody tr th {\n",
       "        vertical-align: top;\n",
       "    }\n",
       "\n",
       "    .dataframe thead th {\n",
       "        text-align: right;\n",
       "    }\n",
       "</style>\n",
       "<table border=\"1\" class=\"dataframe\">\n",
       "  <thead>\n",
       "    <tr style=\"text-align: right;\">\n",
       "      <th></th>\n",
       "      <th>Timestamp</th>\n",
       "      <th>RemoteAddr</th>\n",
       "      <th>Id</th>\n",
       "      <th>MetricId</th>\n",
       "      <th>avg</th>\n",
       "    </tr>\n",
       "  </thead>\n",
       "  <tbody>\n",
       "    <tr>\n",
       "      <th>0</th>\n",
       "      <td>2020-03-31T21:21:29.099Z</td>\n",
       "      <td>10.243.19.157</td>\n",
       "      <td>CUPS</td>\n",
       "      <td>CPUUsage</td>\n",
       "      <td>12.666667</td>\n",
       "    </tr>\n",
       "    <tr>\n",
       "      <th>1</th>\n",
       "      <td>2020-03-31T21:21:33.932Z</td>\n",
       "      <td>10.243.19.153</td>\n",
       "      <td>CUPS</td>\n",
       "      <td>CPUUsage</td>\n",
       "      <td>50.666667</td>\n",
       "    </tr>\n",
       "    <tr>\n",
       "      <th>2</th>\n",
       "      <td>2020-03-31T21:21:34.594Z</td>\n",
       "      <td>10.243.19.158</td>\n",
       "      <td>CUPS</td>\n",
       "      <td>CPUUsage</td>\n",
       "      <td>18.250000</td>\n",
       "    </tr>\n",
       "    <tr>\n",
       "      <th>3</th>\n",
       "      <td>2020-03-31T21:21:35.097Z</td>\n",
       "      <td>10.243.19.156</td>\n",
       "      <td>CUPS</td>\n",
       "      <td>CPUUsage</td>\n",
       "      <td>37.666667</td>\n",
       "    </tr>\n",
       "    <tr>\n",
       "      <th>4</th>\n",
       "      <td>2020-03-31T21:21:36.165Z</td>\n",
       "      <td>10.243.19.152</td>\n",
       "      <td>CUPS</td>\n",
       "      <td>CPUUsage</td>\n",
       "      <td>49.833333</td>\n",
       "    </tr>\n",
       "    <tr>\n",
       "      <th>...</th>\n",
       "      <td>...</td>\n",
       "      <td>...</td>\n",
       "      <td>...</td>\n",
       "      <td>...</td>\n",
       "      <td>...</td>\n",
       "    </tr>\n",
       "    <tr>\n",
       "      <th>995</th>\n",
       "      <td>2020-03-31T21:28:59.070Z</td>\n",
       "      <td>10.243.19.156</td>\n",
       "      <td>CUPS</td>\n",
       "      <td>CPUUsage</td>\n",
       "      <td>36.000000</td>\n",
       "    </tr>\n",
       "    <tr>\n",
       "      <th>996</th>\n",
       "      <td>2020-03-31T21:29:00.159Z</td>\n",
       "      <td>10.243.19.152</td>\n",
       "      <td>CUPS</td>\n",
       "      <td>CPUUsage</td>\n",
       "      <td>50.666667</td>\n",
       "    </tr>\n",
       "    <tr>\n",
       "      <th>997</th>\n",
       "      <td>2020-03-31T21:29:00.660Z</td>\n",
       "      <td>10.243.19.158</td>\n",
       "      <td>CUPS</td>\n",
       "      <td>CPUUsage</td>\n",
       "      <td>16.500000</td>\n",
       "    </tr>\n",
       "    <tr>\n",
       "      <th>998</th>\n",
       "      <td>2020-03-31T21:28:18.560Z</td>\n",
       "      <td>10.243.19.157</td>\n",
       "      <td>CUPS</td>\n",
       "      <td>CPUUsage</td>\n",
       "      <td>18.916667</td>\n",
       "    </tr>\n",
       "    <tr>\n",
       "      <th>999</th>\n",
       "      <td>2020-03-31T21:29:01.063Z</td>\n",
       "      <td>10.243.19.156</td>\n",
       "      <td>CUPS</td>\n",
       "      <td>CPUUsage</td>\n",
       "      <td>36.000000</td>\n",
       "    </tr>\n",
       "  </tbody>\n",
       "</table>\n",
       "<p>1000 rows × 5 columns</p>\n",
       "</div>"
      ],
      "text/plain": [
       "                    Timestamp     RemoteAddr    Id  MetricId        avg\n",
       "0    2020-03-31T21:21:29.099Z  10.243.19.157  CUPS  CPUUsage  12.666667\n",
       "1    2020-03-31T21:21:33.932Z  10.243.19.153  CUPS  CPUUsage  50.666667\n",
       "2    2020-03-31T21:21:34.594Z  10.243.19.158  CUPS  CPUUsage  18.250000\n",
       "3    2020-03-31T21:21:35.097Z  10.243.19.156  CUPS  CPUUsage  37.666667\n",
       "4    2020-03-31T21:21:36.165Z  10.243.19.152  CUPS  CPUUsage  49.833333\n",
       "..                        ...            ...   ...       ...        ...\n",
       "995  2020-03-31T21:28:59.070Z  10.243.19.156  CUPS  CPUUsage  36.000000\n",
       "996  2020-03-31T21:29:00.159Z  10.243.19.152  CUPS  CPUUsage  50.666667\n",
       "997  2020-03-31T21:29:00.660Z  10.243.19.158  CUPS  CPUUsage  16.500000\n",
       "998  2020-03-31T21:28:18.560Z  10.243.19.157  CUPS  CPUUsage  18.916667\n",
       "999  2020-03-31T21:29:01.063Z  10.243.19.156  CUPS  CPUUsage  36.000000\n",
       "\n",
       "[1000 rows x 5 columns]"
      ]
     },
     "metadata": {},
     "output_type": "display_data"
    }
   ],
   "source": [
    "text = \"H4sIAAAAAAAAADOwykwpSkxOSc3N14ewEksSrUx0THWMrQx0gBBCAgCqKE54JwAAAA==\"\n",
    "from_stream_cut = pravega.pb.StreamCut(text=text)\n",
    "read_events = unindexed_stream.read_events_from_stream(from_stream_cut, None)\n",
    "count = 0\n",
    "reports = []\n",
    "for i, event in enumerate(read_events):\n",
    "    metric_report = dict(event)\n",
    "    if metric_report.get('MetricValues') and metric_report.get('Id') == 'CUPS' and metric_report.get('RemoteAddr') in anchorsteam:\n",
    "        _report = dict()\n",
    "        sum = 0\n",
    "        cnt = 0\n",
    "        for metric in metric_report.get('MetricValues'):\n",
    "            if metric.get('MetricId') == 'CPUUsage':\n",
    "                try:\n",
    "                    sum += float(metric['MetricValue'])\n",
    "                    cnt += 1\n",
    "                except:\n",
    "                    pass\n",
    "        _report['Timestamp'] = metric_report['Timestamp']\n",
    "        _report['RemoteAddr'] = metric_report['RemoteAddr']\n",
    "        _report['Id'] = metric_report['Id']\n",
    "        _report['MetricId'] = 'CPUUsage'\n",
    "        _report['avg'] = sum/cnt\n",
    "        reports.append(_report)\n",
    "        count += 1\n",
    "    if count >= 1000:\n",
    "        break\n",
    "display(pandas.DataFrame.from_dict(reports, orient='columns'))"
   ]
  },
  {
   "cell_type": "code",
   "execution_count": 21,
   "metadata": {},
   "outputs": [
    {
     "data": {
      "text/plain": [
       "(15.012559412177906, 32.306249999999864, 1000)"
      ]
     },
     "execution_count": 21,
     "metadata": {},
     "output_type": "execute_result"
    }
   ],
   "source": [
    "s1 = 0\n",
    "s2 = 0\n",
    "count = 0\n",
    "mean = 0\n",
    "for report in reports:\n",
    "    s1 += report['avg']\n",
    "    s2 += pow(report['avg'], 2)\n",
    "    count += 1\n",
    "# calculate mean\n",
    "mean = s1/count\n",
    "# (sqrt(count*.s2 - pow(s1, 2)))/count\n",
    "std = (math.sqrt(count*s2 - pow(s1, 2)))/count\n",
    "std, mean, count"
   ]
  },
  {
   "cell_type": "code",
   "execution_count": 22,
   "metadata": {},
   "outputs": [
    {
     "data": {
      "image/png": "[encoded data removed]",
      "text/plain": [
       "<Figure size 432x288 with 1 Axes>"
      ]
     },
     "metadata": {
      "needs_background": "light"
     },
     "output_type": "display_data"
    }
   ],
   "source": [
    "fig, ax = plt.subplots()\n",
    "x = np.linspace(mean-2*std,mean+2*std, int(mean))\n",
    "ax.plot(x, norm.pdf(x, scale=std, loc=mean), label='stdv=%.1f' % std)\n",
    "ax.set_xlabel('x')\n",
    "ax.set_ylabel('pdf(x)')\n",
    "ax.set_title('Normal Distribution')\n",
    "ax.legend(loc='best', frameon=True)\n",
    "#ax.set_ylim(0,0.45)\n",
    "ax.grid(True)"
   ]
  },
  {
   "cell_type": "code",
   "execution_count": 23,
   "metadata": {},
   "outputs": [
    {
     "data": {
      "image/png": "[encoded data removed]",
      "text/plain": [
       "<Figure size 432x288 with 1 Axes>"
      ]
     },
     "metadata": {
      "needs_background": "light"
     },
     "output_type": "display_data"
    }
   ],
   "source": [
    "fig, ax = plt.subplots()\n",
    "xs = [i['avg'] for i in reports ]\n",
    "#print(xs)\n",
    "x = np.linspace(mean-3*std,mean+3*std, int(mean))\n",
    "p = norm.pdf(x, scale=std, loc=mean)\n",
    "v = np.var(xs)\n",
    "m = np.mean(xs)\n",
    "# ax = fig.add_subplot(111)\n",
    "ax.hist(xs, bins=50, alpha=0.5, density=True)\n",
    "ax.plot(x, p, 'r-', lw=2)\n",
    "ax.set_xlabel('x')\n",
    "ax.set_ylabel('pdf(x)')\n",
    "ax.set_title(f'mean={m:.2f}, var={v:.2f}')\n",
    "ax.grid(True)"
   ]
  },
  {
   "cell_type": "code",
   "execution_count": 24,
   "metadata": {},
   "outputs": [
    {
     "data": {
      "image/png": "[encoded data removed]",
      "text/plain": [
       "<Figure size 432x288 with 1 Axes>"
      ]
     },
     "metadata": {
      "needs_background": "light"
     },
     "output_type": "display_data"
    }
   ],
   "source": [
    "fig, ax = plt.subplots()\n",
    "xs = norm.rvs(scale=std,loc=mean, size=1000) # [i['avg'] for i in reports ]\n",
    "#print(xs)\n",
    "x = np.linspace(mean-3*std,mean+3*std, int(mean))\n",
    "p = norm.pdf(x, scale=std, loc=mean)\n",
    "v = np.var(xs)\n",
    "m = np.mean(xs)\n",
    "# ax = fig.add_subplot(111)\n",
    "ax.hist(xs, bins=50, alpha=0.5, density=True)\n",
    "ax.plot(x, p, 'r-', lw=2)\n",
    "ax.set_xlabel('x')\n",
    "ax.set_ylabel('pdf(x)')\n",
    "ax.set_title(f'mean={m:.2f}, var={v:.2f}')\n",
    "ax.grid(True)"
   ]
  },
  {
   "cell_type": "code",
   "execution_count": null,
   "metadata": {},
   "outputs": [],
   "source": []
  }
 ],
 "metadata": {
  "kernelspec": {
   "display_name": "Python 3",
   "language": "python",
   "name": "python3"
  },
  "language_info": {
   "codemirror_mode": {
    "name": "ipython",
    "version": 3
   },
   "file_extension": ".py",
   "mimetype": "text/x-python",
   "name": "python",
   "nbconvert_exporter": "python",
   "pygments_lexer": "ipython3",
   "version": "3.7.3"
  }
 },
 "nbformat": 4,
 "nbformat_minor": 2
}
