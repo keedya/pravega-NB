{
 "cells": [
  {
   "cell_type": "code",
   "execution_count": 1,
   "metadata": {},
   "outputs": [
    {
     "name": "stdout",
     "output_type": "stream",
     "text": [
      "\u001b[33mSkipping pravega-grpc-gateway-client as it is not installed.\u001b[0m\n",
      "Cloning into '/tmp/pravega-grpc-gateway'...\n",
      "remote: Enumerating objects: 572, done.\u001b[K\n",
      "remote: Counting objects: 100% (572/572), done.\u001b[K\n",
      "remote: Compressing objects: 100% (245/245), done.\u001b[K\n",
      "remote: Total 572 (delta 234), reused 511 (delta 174), pack-reused 0\u001b[K\n",
      "Receiving objects: 100% (572/572), 137.66 KiB | 1.39 MiB/s, done.\n",
      "Resolving deltas: 100% (234/234), done.\n"
     ]
    }
   ],
   "source": [
    "!pip uninstall -y pravega-grpc-gateway-client\n",
    "! rm -rf /tmp/pravega-grpc-gateway\n",
    "! git clone https://github.com/pravega/pravega-grpc-gateway /tmp/pravega-grpc-gateway"
   ]
  },
  {
   "cell_type": "code",
   "execution_count": 2,
   "metadata": {},
   "outputs": [
    {
     "name": "stdout",
     "output_type": "stream",
     "text": [
      "Collecting pip\n",
      "\u001b[?25l  Downloading https://files.pythonhosted.org/packages/54/0c/d01aa759fdc501a58f431eb594a17495f15b88da142ce14b5845662c13f3/pip-20.0.2-py2.py3-none-any.whl (1.4MB)\n",
      "\u001b[K    100% |████████████████████████████████| 1.4MB 3.0MB/s \n",
      "\u001b[?25hInstalling collected packages: pip\n",
      "  Found existing installation: pip 19.0.3\n",
      "    Uninstalling pip-19.0.3:\n",
      "      Successfully uninstalled pip-19.0.3\n",
      "Successfully installed pip-20.0.2\n"
     ]
    }
   ],
   "source": [
    "!pip install --upgrade pip"
   ]
  },
  {
   "cell_type": "code",
   "execution_count": 3,
   "metadata": {},
   "outputs": [
    {
     "name": "stdout",
     "output_type": "stream",
     "text": [
      "Collecting setuptools\n",
      "  Downloading setuptools-46.1.3-py3-none-any.whl (582 kB)\n",
      "\u001b[K     |████████████████████████████████| 582 kB 145 kB/s \n",
      "\u001b[?25hInstalling collected packages: setuptools\n",
      "  Attempting uninstall: setuptools\n",
      "    Found existing installation: setuptools 41.0.0\n",
      "    Uninstalling setuptools-41.0.0:\n",
      "      Successfully uninstalled setuptools-41.0.0\n",
      "Successfully installed setuptools-46.1.3\n"
     ]
    }
   ],
   "source": [
    "!pip install --upgrade setuptools"
   ]
  },
  {
   "cell_type": "code",
   "execution_count": 4,
   "metadata": {},
   "outputs": [
    {
     "name": "stdout",
     "output_type": "stream",
     "text": [
      "Processing ./pravega-grpc-gateway/src/main/python\n",
      "Collecting grpcio\n",
      "  Downloading grpcio-1.28.1-cp37-cp37m-manylinux2010_x86_64.whl (2.8 MB)\n",
      "\u001b[K     |████████████████████████████████| 2.8 MB 1.5 MB/s \n",
      "\u001b[?25hRequirement already satisfied: six>=1.5.2 in /opt/conda/lib/python3.7/site-packages (from grpcio) (1.12.0)\n",
      "Building wheels for collected packages: pravega-grpc-gateway-client\n",
      "  Building wheel for pravega-grpc-gateway-client (setup.py) ... \u001b[?25ldone\n",
      "\u001b[?25h  Created wheel for pravega-grpc-gateway-client: filename=pravega_grpc_gateway_client-0.0.4-py3-none-any.whl size=8451 sha256=4fccd3bcbd9f961770cb0632cfef00c8983a5b9885e9385a95c56d4dafd7dea6\n",
      "  Stored in directory: /tmp/pip-ephem-wheel-cache-kgdn6cbr/wheels/99/1f/58/3dc39e5cba0e63710728d0b9bea482f58a56f2f799cb015111\n",
      "Successfully built pravega-grpc-gateway-client\n",
      "Installing collected packages: grpcio, pravega-grpc-gateway-client\n",
      "Successfully installed grpcio-1.28.1 pravega-grpc-gateway-client-0.0.4\n"
     ]
    }
   ],
   "source": [
    "!cd /tmp/pravega-grpc-gateway && pip install grpcio pravega-grpc-gateway/src/main/python"
   ]
  },
  {
   "cell_type": "code",
   "execution_count": 7,
   "metadata": {},
   "outputs": [
    {
     "name": "stdout",
     "output_type": "stream",
     "text": [
      "Requirement already satisfied: grpcio in /opt/conda/lib/python3.7/site-packages (1.28.1)\n",
      "Requirement already satisfied: plotly in /opt/conda/lib/python3.7/site-packages (4.6.0)\n",
      "Requirement already satisfied: simplejson in /opt/conda/lib/python3.7/site-packages (3.17.0)\n",
      "Requirement already satisfied: matplotlib in /opt/conda/lib/python3.7/site-packages (3.2.1)\n",
      "Collecting google\n",
      "  Using cached google-2.0.3-py2.py3-none-any.whl (45 kB)\n",
      "Collecting protobuf\n",
      "  Using cached protobuf-3.11.3-cp37-cp37m-manylinux1_x86_64.whl (1.3 MB)\n",
      "Collecting scipy\n",
      "  Using cached scipy-1.4.1-cp37-cp37m-manylinux1_x86_64.whl (26.1 MB)\n",
      "Collecting seaborn\n",
      "  Using cached seaborn-0.10.0-py3-none-any.whl (215 kB)\n",
      "Collecting tzlocal\n",
      "  Using cached tzlocal-2.0.0-py2.py3-none-any.whl (15 kB)\n",
      "Collecting jupyter_slack\n",
      "  Using cached jupyter_slack-2.1.4-py3-none-any.whl (4.2 kB)\n",
      "Requirement already satisfied: requests in /opt/conda/lib/python3.7/site-packages (2.21.0)\n",
      "Collecting fbprophet\n",
      "  Using cached fbprophet-0.6.tar.gz (54 kB)\n",
      "Processing /home/jovyan/.cache/pip/wheels/e5/99/37/e1839a5ad733e0d6abb7e0419fd913e8926ddf96408239ce01/json2html-1.3.0-py3-none-any.whl\n",
      "Requirement already satisfied: six>=1.5.2 in /opt/conda/lib/python3.7/site-packages (from grpcio) (1.12.0)\n",
      "Requirement already satisfied: retrying>=1.3.3 in /opt/conda/lib/python3.7/site-packages (from plotly) (1.3.3)\n",
      "Requirement already satisfied: cycler>=0.10 in /opt/conda/lib/python3.7/site-packages (from matplotlib) (0.10.0)\n",
      "Requirement already satisfied: numpy>=1.11 in /opt/conda/lib/python3.7/site-packages (from matplotlib) (1.18.3)\n",
      "Requirement already satisfied: kiwisolver>=1.0.1 in /opt/conda/lib/python3.7/site-packages (from matplotlib) (1.2.0)\n",
      "Requirement already satisfied: pyparsing!=2.0.4,!=2.1.2,!=2.1.6,>=2.0.1 in /opt/conda/lib/python3.7/site-packages (from matplotlib) (2.4.7)\n",
      "Requirement already satisfied: python-dateutil>=2.1 in /opt/conda/lib/python3.7/site-packages (from matplotlib) (2.8.0)\n",
      "Collecting beautifulsoup4\n",
      "  Using cached beautifulsoup4-4.9.0-py3-none-any.whl (109 kB)\n",
      "Requirement already satisfied: setuptools in /opt/conda/lib/python3.7/site-packages (from protobuf) (46.1.3)\n",
      "Requirement already satisfied: pandas>=0.22.0 in /opt/conda/lib/python3.7/site-packages (from seaborn) (1.0.3)\n",
      "Requirement already satisfied: pytz in /opt/conda/lib/python3.7/site-packages (from tzlocal) (2019.3)\n",
      "Collecting jupyter\n",
      "  Using cached jupyter-1.0.0-py2.py3-none-any.whl (2.7 kB)\n",
      "Requirement already satisfied: ipython in /opt/conda/lib/python3.7/site-packages (from jupyter_slack) (7.4.0)\n",
      "Requirement already satisfied: certifi>=2017.4.17 in /opt/conda/lib/python3.7/site-packages (from requests) (2020.4.5.1)\n",
      "Requirement already satisfied: chardet<3.1.0,>=3.0.2 in /opt/conda/lib/python3.7/site-packages (from requests) (3.0.4)\n",
      "Requirement already satisfied: idna<2.9,>=2.5 in /opt/conda/lib/python3.7/site-packages (from requests) (2.8)\n",
      "Requirement already satisfied: urllib3<1.25,>=1.21.1 in /opt/conda/lib/python3.7/site-packages (from requests) (1.24.2)\n",
      "Collecting Cython>=0.22\n",
      "  Using cached Cython-0.29.16-cp37-cp37m-manylinux1_x86_64.whl (2.1 MB)\n",
      "Collecting cmdstanpy==0.4\n",
      "  Using cached cmdstanpy-0.4.0-py3-none-any.whl (22 kB)\n",
      "Collecting pystan>=2.14\n",
      "  Using cached pystan-2.19.1.1-cp37-cp37m-manylinux1_x86_64.whl (67.3 MB)\n",
      "Collecting LunarCalendar>=0.0.9\n",
      "  Using cached LunarCalendar-0.0.9-py2.py3-none-any.whl (18 kB)\n",
      "Collecting convertdate>=2.1.2\n",
      "  Using cached convertdate-2.2.0-py3-none-any.whl (37 kB)\n",
      "Processing /home/jovyan/.cache/pip/wheels/90/4e/82/f4130a57eb035c4344489ca14caff692590719b5f375540f53/holidays-0.10.2-py3-none-any.whl\n",
      "Collecting setuptools-git>=1.2\n",
      "  Using cached setuptools_git-1.2-py2.py3-none-any.whl (10 kB)\n",
      "Requirement already satisfied: soupsieve>1.2 in /opt/conda/lib/python3.7/site-packages (from beautifulsoup4->google) (2.0)\n",
      "Requirement already satisfied: notebook in /opt/conda/lib/python3.7/site-packages (from jupyter->jupyter_slack) (5.7.8)\n",
      "Requirement already satisfied: nbconvert in /opt/conda/lib/python3.7/site-packages (from jupyter->jupyter_slack) (5.4.1)\n",
      "Collecting ipywidgets\n",
      "  Using cached ipywidgets-7.5.1-py2.py3-none-any.whl (121 kB)\n",
      "Requirement already satisfied: ipykernel in /opt/conda/lib/python3.7/site-packages (from jupyter->jupyter_slack) (5.1.0)\n",
      "Collecting qtconsole\n",
      "  Using cached qtconsole-4.7.3-py2.py3-none-any.whl (117 kB)\n",
      "Collecting jupyter-console\n",
      "  Using cached jupyter_console-6.1.0-py2.py3-none-any.whl (21 kB)\n",
      "Requirement already satisfied: jedi>=0.10 in /opt/conda/lib/python3.7/site-packages (from ipython->jupyter_slack) (0.13.3)\n",
      "Requirement already satisfied: decorator in /opt/conda/lib/python3.7/site-packages (from ipython->jupyter_slack) (4.4.0)\n",
      "Requirement already satisfied: pickleshare in /opt/conda/lib/python3.7/site-packages (from ipython->jupyter_slack) (0.7.5)\n",
      "Requirement already satisfied: traitlets>=4.2 in /opt/conda/lib/python3.7/site-packages (from ipython->jupyter_slack) (4.3.2)\n",
      "Requirement already satisfied: prompt_toolkit<2.1.0,>=2.0.0 in /opt/conda/lib/python3.7/site-packages (from ipython->jupyter_slack) (2.0.9)\n",
      "Requirement already satisfied: pygments in /opt/conda/lib/python3.7/site-packages (from ipython->jupyter_slack) (2.3.1)\n",
      "Requirement already satisfied: backcall in /opt/conda/lib/python3.7/site-packages (from ipython->jupyter_slack) (0.1.0)\n",
      "Requirement already satisfied: pexpect in /opt/conda/lib/python3.7/site-packages (from ipython->jupyter_slack) (4.7.0)\n",
      "Collecting ephem>=3.7.5.3\n",
      "  Using cached ephem-3.7.7.1-cp37-cp37m-manylinux2010_x86_64.whl (1.2 MB)\n",
      "Processing /home/jovyan/.cache/pip/wheels/80/32/5f/2a67880d4ce584b9cf99146f9945e46942dfb010a9382c6ff5/PyMeeus-0.3.7-py3-none-any.whl\n",
      "Collecting korean-lunar-calendar\n",
      "  Using cached korean_lunar_calendar-0.2.1-py3-none-any.whl (8.0 kB)\n",
      "Requirement already satisfied: jinja2 in /opt/conda/lib/python3.7/site-packages (from notebook->jupyter->jupyter_slack) (2.10.1)\n",
      "Requirement already satisfied: tornado<7,>=4.1 in /opt/conda/lib/python3.7/site-packages (from notebook->jupyter->jupyter_slack) (6.0.2)\n",
      "Requirement already satisfied: jupyter-client>=5.2.0 in /opt/conda/lib/python3.7/site-packages (from notebook->jupyter->jupyter_slack) (5.2.4)\n",
      "Requirement already satisfied: pyzmq>=17 in /opt/conda/lib/python3.7/site-packages (from notebook->jupyter->jupyter_slack) (18.0.1)\n",
      "Requirement already satisfied: ipython-genutils in /opt/conda/lib/python3.7/site-packages (from notebook->jupyter->jupyter_slack) (0.2.0)\n",
      "Requirement already satisfied: prometheus-client in /opt/conda/lib/python3.7/site-packages (from notebook->jupyter->jupyter_slack) (0.6.0)\n",
      "Requirement already satisfied: jupyter-core>=4.4.0 in /opt/conda/lib/python3.7/site-packages (from notebook->jupyter->jupyter_slack) (4.4.0)\n",
      "Requirement already satisfied: nbformat in /opt/conda/lib/python3.7/site-packages (from notebook->jupyter->jupyter_slack) (4.4.0)\n",
      "Requirement already satisfied: terminado>=0.8.1 in /opt/conda/lib/python3.7/site-packages (from notebook->jupyter->jupyter_slack) (0.8.2)\n",
      "Requirement already satisfied: Send2Trash in /opt/conda/lib/python3.7/site-packages (from notebook->jupyter->jupyter_slack) (1.5.0)\n",
      "Requirement already satisfied: mistune>=0.8.1 in /opt/conda/lib/python3.7/site-packages (from nbconvert->jupyter->jupyter_slack) (0.8.4)\n",
      "Requirement already satisfied: entrypoints>=0.2.2 in /opt/conda/lib/python3.7/site-packages (from nbconvert->jupyter->jupyter_slack) (0.3)\n",
      "Requirement already satisfied: bleach in /opt/conda/lib/python3.7/site-packages (from nbconvert->jupyter->jupyter_slack) (3.1.0)\n",
      "Requirement already satisfied: pandocfilters>=1.4.1 in /opt/conda/lib/python3.7/site-packages (from nbconvert->jupyter->jupyter_slack) (1.4.2)\n",
      "Requirement already satisfied: testpath in /opt/conda/lib/python3.7/site-packages (from nbconvert->jupyter->jupyter_slack) (0.4.2)\n",
      "Requirement already satisfied: defusedxml in /opt/conda/lib/python3.7/site-packages (from nbconvert->jupyter->jupyter_slack) (0.5.0)\n",
      "Collecting widgetsnbextension~=3.5.0\n",
      "  Using cached widgetsnbextension-3.5.1-py2.py3-none-any.whl (2.2 MB)\n",
      "Collecting qtpy\n",
      "  Using cached QtPy-1.9.0-py2.py3-none-any.whl (54 kB)\n",
      "Requirement already satisfied: parso>=0.3.0 in /opt/conda/lib/python3.7/site-packages (from jedi>=0.10->ipython->jupyter_slack) (0.4.0)\n",
      "Requirement already satisfied: wcwidth in /opt/conda/lib/python3.7/site-packages (from prompt_toolkit<2.1.0,>=2.0.0->ipython->jupyter_slack) (0.1.7)\n",
      "Requirement already satisfied: ptyprocess>=0.5 in /opt/conda/lib/python3.7/site-packages (from pexpect->ipython->jupyter_slack) (0.6.0)\n",
      "Requirement already satisfied: MarkupSafe>=0.23 in /opt/conda/lib/python3.7/site-packages (from jinja2->notebook->jupyter->jupyter_slack) (1.1.1)\n",
      "Requirement already satisfied: jsonschema!=2.5.0,>=2.4 in /opt/conda/lib/python3.7/site-packages (from nbformat->notebook->jupyter->jupyter_slack) (3.0.1)\n",
      "Requirement already satisfied: webencodings in /opt/conda/lib/python3.7/site-packages (from bleach->nbconvert->jupyter->jupyter_slack) (0.5.1)\n",
      "Requirement already satisfied: attrs>=17.4.0 in /opt/conda/lib/python3.7/site-packages (from jsonschema!=2.5.0,>=2.4->nbformat->notebook->jupyter->jupyter_slack) (19.1.0)\n",
      "Requirement already satisfied: pyrsistent>=0.14.0 in /opt/conda/lib/python3.7/site-packages (from jsonschema!=2.5.0,>=2.4->nbformat->notebook->jupyter->jupyter_slack) (0.14.11)\n",
      "Building wheels for collected packages: fbprophet\n",
      "  Building wheel for fbprophet (setup.py) ... \u001b[?25lerror\n",
      "\u001b[31m  ERROR: Command errored out with exit status 1:\n",
      "   command: /opt/conda/bin/python -u -c 'import sys, setuptools, tokenize; sys.argv[0] = '\"'\"'/tmp/pip-install-dzgw5jr2/fbprophet/setup.py'\"'\"'; __file__='\"'\"'/tmp/pip-install-dzgw5jr2/fbprophet/setup.py'\"'\"';f=getattr(tokenize, '\"'\"'open'\"'\"', open)(__file__);code=f.read().replace('\"'\"'\\r\\n'\"'\"', '\"'\"'\\n'\"'\"');f.close();exec(compile(code, __file__, '\"'\"'exec'\"'\"'))' bdist_wheel -d /tmp/pip-wheel-l68avkx0\n",
      "       cwd: /tmp/pip-install-dzgw5jr2/fbprophet/\n",
      "  Complete output (44 lines):\n",
      "  running bdist_wheel\n",
      "  running build\n",
      "  running build_py\n",
      "  creating build\n",
      "  creating build/lib\n",
      "  creating build/lib/fbprophet\n",
      "  creating build/lib/fbprophet/stan_model\n",
      "  Traceback (most recent call last):\n",
      "    File \"<string>\", line 1, in <module>\n",
      "    File \"/tmp/pip-install-dzgw5jr2/fbprophet/setup.py\", line 148, in <module>\n",
      "      \"\"\"\n",
      "    File \"/opt/conda/lib/python3.7/site-packages/setuptools/__init__.py\", line 144, in setup\n",
      "      return distutils.core.setup(**attrs)\n",
      "    File \"/opt/conda/lib/python3.7/distutils/core.py\", line 148, in setup\n",
      "      dist.run_commands()\n",
      "    File \"/opt/conda/lib/python3.7/distutils/dist.py\", line 966, in run_commands\n",
      "      self.run_command(cmd)\n",
      "    File \"/opt/conda/lib/python3.7/distutils/dist.py\", line 985, in run_command\n",
      "      cmd_obj.run()\n",
      "    File \"/opt/conda/lib/python3.7/site-packages/wheel/bdist_wheel.py\", line 192, in run\n",
      "      self.run_command('build')\n",
      "    File \"/opt/conda/lib/python3.7/distutils/cmd.py\", line 313, in run_command\n",
      "      self.distribution.run_command(command)\n",
      "    File \"/opt/conda/lib/python3.7/distutils/dist.py\", line 985, in run_command\n",
      "      cmd_obj.run()\n",
      "    File \"/opt/conda/lib/python3.7/distutils/command/build.py\", line 135, in run\n",
      "      self.run_command(cmd_name)\n",
      "    File \"/opt/conda/lib/python3.7/distutils/cmd.py\", line 313, in run_command\n",
      "      self.distribution.run_command(command)\n",
      "    File \"/opt/conda/lib/python3.7/distutils/dist.py\", line 985, in run_command\n",
      "      cmd_obj.run()\n",
      "    File \"/tmp/pip-install-dzgw5jr2/fbprophet/setup.py\", line 48, in run\n",
      "      build_models(target_dir)\n",
      "    File \"/tmp/pip-install-dzgw5jr2/fbprophet/setup.py\", line 36, in build_models\n",
      "      from fbprophet.models import StanBackendEnum\n",
      "    File \"/tmp/pip-install-dzgw5jr2/fbprophet/fbprophet/__init__.py\", line 8, in <module>\n",
      "      from fbprophet.forecaster import Prophet\n",
      "    File \"/tmp/pip-install-dzgw5jr2/fbprophet/fbprophet/forecaster.py\", line 17, in <module>\n",
      "      from fbprophet.make_holidays import get_holiday_names, make_holidays_df\n",
      "    File \"/tmp/pip-install-dzgw5jr2/fbprophet/fbprophet/make_holidays.py\", line 14, in <module>\n",
      "      import fbprophet.hdays as hdays_part2\n",
      "    File \"/tmp/pip-install-dzgw5jr2/fbprophet/fbprophet/hdays.py\", line 13, in <module>\n",
      "      from convertdate.islamic import from_gregorian, to_gregorian\n",
      "  ModuleNotFoundError: No module named 'convertdate'\n",
      "  ----------------------------------------\u001b[0m\n",
      "\u001b[31m  ERROR: Failed building wheel for fbprophet\u001b[0m\n",
      "\u001b[?25h  Running setup.py clean for fbprophet\n",
      "Failed to build fbprophet\n",
      "Installing collected packages: beautifulsoup4, google, protobuf, scipy, seaborn, tzlocal, widgetsnbextension, ipywidgets, qtpy, qtconsole, jupyter-console, jupyter, jupyter-slack, Cython, cmdstanpy, pystan, ephem, LunarCalendar, pymeeus, convertdate, korean-lunar-calendar, holidays, setuptools-git, fbprophet, json2html\n",
      "    Running setup.py install for fbprophet ... \u001b[?25ldone\n",
      "\u001b[?25hSuccessfully installed Cython-0.29.16 LunarCalendar-0.0.9 beautifulsoup4-4.9.0 cmdstanpy-0.4.0 convertdate-2.2.0 ephem-3.7.7.1 fbprophet-0.6 google-2.0.3 holidays-0.10.2 ipywidgets-7.5.1 json2html-1.3.0 jupyter-1.0.0 jupyter-console-6.1.0 jupyter-slack-2.1.4 korean-lunar-calendar-0.2.1 protobuf-3.11.3 pymeeus-0.3.7 pystan-2.19.1.1 qtconsole-4.7.3 qtpy-1.9.0 scipy-1.4.1 seaborn-0.10.0 setuptools-git-1.2 tzlocal-2.0.0 widgetsnbextension-3.5.1\n"
     ]
    }
   ],
   "source": [
    "!pip install grpcio plotly simplejson matplotlib google protobuf scipy seaborn tzlocal jupyter_slack requests fbprophet json2html"
   ]
  },
  {
   "cell_type": "code",
   "execution_count": 8,
   "metadata": {},
   "outputs": [
    {
     "name": "stdout",
     "output_type": "stream",
     "text": [
      "Collecting package metadata: done\n",
      "Solving environment: done\n",
      "\n",
      "\n",
      "==> WARNING: A newer version of conda exists. <==\n",
      "  current version: 4.6.14\n",
      "  latest version: 4.8.3\n",
      "\n",
      "Please update conda by running\n",
      "\n",
      "    $ conda update -n base conda\n",
      "\n",
      "\n",
      "\n",
      "# All requested packages already installed.\n",
      "\n"
     ]
    }
   ],
   "source": [
    "!conda install -y pandas"
   ]
  },
  {
   "cell_type": "code",
   "execution_count": null,
   "metadata": {},
   "outputs": [],
   "source": []
  }
 ],
 "metadata": {
  "kernelspec": {
   "display_name": "Python 3",
   "language": "python",
   "name": "python3"
  },
  "language_info": {
   "codemirror_mode": {
    "name": "ipython",
    "version": 3
   },
   "file_extension": ".py",
   "mimetype": "text/x-python",
   "name": "python",
   "nbconvert_exporter": "python",
   "pygments_lexer": "ipython3",
   "version": "3.7.3"
  }
 },
 "nbformat": 4,
 "nbformat_minor": 2
}
