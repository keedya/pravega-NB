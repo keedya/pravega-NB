{
 "cells": [
  {
   "cell_type": "code",
   "execution_count": 1,
   "metadata": {},
   "outputs": [],
   "source": [
    "from praveganb.pravega_stream import *\n",
    "import grpc"
   ]
  },
  {
   "cell_type": "code",
   "execution_count": 2,
   "metadata": {},
   "outputs": [],
   "source": [
    "class PravegaStreamIndex(object):\n",
    "    def __init__(self, gateway, scope, stream):\n",
    "        self.scope = scope\n",
    "        self.stream = stream\n",
    "        self.gateway = gateway\n",
    "        self.pravega_client = self.init_pravega_client(gateway)\n",
    "        self.indexed_stream = IndexedStream(self.pravega_client, scope, stream)\n",
    "    \n",
    "    \n",
    "    def get_pravega_client(self):\n",
    "        return self.pravega_client\n",
    "    \n",
    "    def get_indexed_stream(self):\n",
    "        return self.indexed_stream\n",
    "\n",
    "    def init_pravega_client(self, gateway):\n",
    "        pravega_channel = grpc.insecure_channel(gateway, options=[\n",
    "                                                ('grpc.max_receive_message_length', 9*1024*1024),\n",
    "        ])\n",
    "        return pravega.grpc.PravegaGatewayStub(pravega_channel)"
   ]
  },
  {
   "cell_type": "code",
   "execution_count": 3,
   "metadata": {},
   "outputs": [],
   "source": [
    "idracDataIndex = PravegaStreamIndex(scope='idracdemo', stream='idracdata', gateway='pravega-grpc-gateway:80')"
   ]
  },
  {
   "cell_type": "code",
   "execution_count": null,
   "metadata": {},
   "outputs": [
    {
     "name": "stdout",
     "output_type": "stream",
     "text": [
      "index_builder: Performing full index generation\n",
      "index_builder: Reading stream idracdata and writing index stream idracdata-index\n",
      "load_index: Reading index stream idracdata-index\n"
     ]
    }
   ],
   "source": [
    "idracDataIndex.get_indexed_stream().update_index(force_full=True)"
   ]
  },
  {
   "cell_type": "code",
   "execution_count": null,
   "metadata": {},
   "outputs": [
    {
     "name": "stdout",
     "output_type": "stream",
     "text": [
      "load_index: Reading index stream idracdata-index\n"
     ]
    }
   ],
   "source": [
    "idracDataIndex.get_indexed_stream().update_index()"
   ]
  },
  {
   "cell_type": "code",
   "execution_count": null,
   "metadata": {},
   "outputs": [],
   "source": [
    "len(idracDataIndex.get_indexed_stream().index_df)"
   ]
  },
  {
   "cell_type": "code",
   "execution_count": null,
   "metadata": {},
   "outputs": [],
   "source": [
    "idracDataIndex.get_indexed_stream().index_df.iloc[[0,-1]].T"
   ]
  },
  {
   "cell_type": "code",
   "execution_count": null,
   "metadata": {},
   "outputs": [],
   "source": [
    "idracDataIndex.get_indexed_stream().continuous_index_builder()"
   ]
  }
 ],
 "metadata": {
  "kernelspec": {
   "display_name": "Python 3",
   "language": "python",
   "name": "python3"
  },
  "language_info": {
   "codemirror_mode": {
    "name": "ipython",
    "version": 3
   },
   "file_extension": ".py",
   "mimetype": "text/x-python",
   "name": "python",
   "nbconvert_exporter": "python",
   "pygments_lexer": "ipython3",
   "version": "3.7.3"
  }
 },
 "nbformat": 4,
 "nbformat_minor": 2
}
