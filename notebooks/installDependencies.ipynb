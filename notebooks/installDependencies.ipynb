{
 "cells": [
  {
   "cell_type": "code",
   "execution_count": 1,
   "metadata": {},
   "outputs": [
    {
     "name": "stdout",
     "output_type": "stream",
     "text": [
      "Cloning into '/tmp/pravega-grpc-gateway'...\n",
      "remote: Enumerating objects: 463, done.\u001b[K\n",
      "remote: Counting objects: 100% (463/463), done.\u001b[K\n",
      "remote: Compressing objects: 100% (190/190), done.\u001b[K\n",
      "remote: Total 463 (delta 185), reused 424 (delta 146), pack-reused 0\u001b[K\n",
      "Receiving objects: 100% (463/463), 122.14 KiB | 1.33 MiB/s, done.\n",
      "Resolving deltas: 100% (185/185), done.\n"
     ]
    }
   ],
   "source": [
    "! git clone https://github.com/pravega/pravega-grpc-gateway /tmp/pravega-grpc-gateway"
   ]
  },
  {
   "cell_type": "code",
   "execution_count": 2,
   "metadata": {},
   "outputs": [
    {
     "name": "stdout",
     "output_type": "stream",
     "text": [
      "Collecting pip\n",
      "\u001b[?25l  Downloading https://files.pythonhosted.org/packages/54/0c/d01aa759fdc501a58f431eb594a17495f15b88da142ce14b5845662c13f3/pip-20.0.2-py2.py3-none-any.whl (1.4MB)\n",
      "\u001b[K    100% |████████████████████████████████| 1.4MB 7.9MB/s \n",
      "\u001b[?25hInstalling collected packages: pip\n",
      "  Found existing installation: pip 19.0.3\n",
      "    Uninstalling pip-19.0.3:\n",
      "      Successfully uninstalled pip-19.0.3\n",
      "Successfully installed pip-20.0.2\n"
     ]
    }
   ],
   "source": [
    "!pip install --upgrade pip"
   ]
  },
  {
   "cell_type": "code",
   "execution_count": 3,
   "metadata": {},
   "outputs": [
    {
     "name": "stdout",
     "output_type": "stream",
     "text": [
      "Collecting setuptools\n",
      "  Downloading setuptools-46.1.1-py3-none-any.whl (582 kB)\n",
      "\u001b[K     |████████████████████████████████| 582 kB 1.4 MB/s \n",
      "\u001b[?25hInstalling collected packages: setuptools\n",
      "  Attempting uninstall: setuptools\n",
      "    Found existing installation: setuptools 41.0.0\n",
      "    Uninstalling setuptools-41.0.0:\n",
      "      Successfully uninstalled setuptools-41.0.0\n",
      "Successfully installed setuptools-46.1.1\n"
     ]
    }
   ],
   "source": [
    "!pip install --upgrade setuptools"
   ]
  },
  {
   "cell_type": "code",
   "execution_count": 7,
   "metadata": {},
   "outputs": [
    {
     "name": "stdout",
     "output_type": "stream",
     "text": [
      "Processing ./pravega-grpc-gateway/src/main/python\n",
      "Requirement already satisfied: grpcio in /opt/conda/lib/python3.7/site-packages (1.27.2)\n",
      "Requirement already satisfied: six>=1.5.2 in /opt/conda/lib/python3.7/site-packages (from grpcio) (1.12.0)\n",
      "Building wheels for collected packages: pravega-grpc-gateway-client\n",
      "  Building wheel for pravega-grpc-gateway-client (setup.py) ... \u001b[?25ldone\n",
      "\u001b[?25h  Created wheel for pravega-grpc-gateway-client: filename=pravega_grpc_gateway_client-0.0.4-py3-none-any.whl size=8451 sha256=de13b216eb35da29299279dfc80a8782bba3f9121075017fbbf9f97ae4224db0\n",
      "  Stored in directory: /tmp/pip-ephem-wheel-cache-6kp3juk7/wheels/99/1f/58/3dc39e5cba0e63710728d0b9bea482f58a56f2f799cb015111\n",
      "Successfully built pravega-grpc-gateway-client\n",
      "Installing collected packages: pravega-grpc-gateway-client\n",
      "  Attempting uninstall: pravega-grpc-gateway-client\n",
      "    Found existing installation: pravega-grpc-gateway-client 0.0.4\n",
      "    Uninstalling pravega-grpc-gateway-client-0.0.4:\n",
      "      Successfully uninstalled pravega-grpc-gateway-client-0.0.4\n",
      "Successfully installed pravega-grpc-gateway-client-0.0.4\n"
     ]
    }
   ],
   "source": [
    "!cd /tmp/pravega-grpc-gateway && pip install grpcio pravega-grpc-gateway/src/main/python"
   ]
  },
  {
   "cell_type": "code",
   "execution_count": 5,
   "metadata": {},
   "outputs": [
    {
     "name": "stdout",
     "output_type": "stream",
     "text": [
      "Requirement already satisfied: grpcio in /opt/conda/lib/python3.7/site-packages (1.27.2)\n",
      "Collecting plotly\n",
      "  Downloading plotly-4.5.4-py2.py3-none-any.whl (7.1 MB)\n",
      "\u001b[K     |████████████████████████████████| 7.1 MB 1.2 MB/s \n",
      "\u001b[?25hCollecting simplejson\n",
      "  Downloading simplejson-3.17.0.tar.gz (83 kB)\n",
      "\u001b[K     |████████████████████████████████| 83 kB 2.4 MB/s \n",
      "\u001b[?25hCollecting matplotlib\n",
      "  Downloading matplotlib-3.2.1-cp37-cp37m-manylinux1_x86_64.whl (12.4 MB)\n",
      "\u001b[K     |████████████████████████████████| 12.4 MB 9.7 MB/s \n",
      "\u001b[?25hCollecting google\n",
      "  Downloading google-2.0.3-py2.py3-none-any.whl (45 kB)\n",
      "\u001b[K     |████████████████████████████████| 45 kB 6.6 MB/s \n",
      "\u001b[?25hCollecting protobuf\n",
      "  Downloading protobuf-3.11.3-cp37-cp37m-manylinux1_x86_64.whl (1.3 MB)\n",
      "\u001b[K     |████████████████████████████████| 1.3 MB 75.3 MB/s \n",
      "\u001b[?25hCollecting scipy\n",
      "  Downloading scipy-1.4.1-cp37-cp37m-manylinux1_x86_64.whl (26.1 MB)\n",
      "\u001b[K     |████████████████████████████████| 26.1 MB 9.8 MB/s \n",
      "\u001b[?25hRequirement already satisfied: six>=1.5.2 in /opt/conda/lib/python3.7/site-packages (from grpcio) (1.12.0)\n",
      "Collecting retrying>=1.3.3\n",
      "  Downloading retrying-1.3.3.tar.gz (10 kB)\n",
      "Collecting numpy>=1.11\n",
      "  Downloading numpy-1.18.2-cp37-cp37m-manylinux1_x86_64.whl (20.2 MB)\n",
      "\u001b[K     |████████████████████████████████| 20.2 MB 9.8 MB/s \n",
      "\u001b[?25hRequirement already satisfied: python-dateutil>=2.1 in /opt/conda/lib/python3.7/site-packages (from matplotlib) (2.8.0)\n",
      "Collecting pyparsing!=2.0.4,!=2.1.2,!=2.1.6,>=2.0.1\n",
      "  Downloading pyparsing-2.4.6-py2.py3-none-any.whl (67 kB)\n",
      "\u001b[K     |████████████████████████████████| 67 kB 8.4 MB/s \n",
      "\u001b[?25hCollecting cycler>=0.10\n",
      "  Downloading cycler-0.10.0-py2.py3-none-any.whl (6.5 kB)\n",
      "Collecting kiwisolver>=1.0.1\n",
      "  Downloading kiwisolver-1.1.0-cp37-cp37m-manylinux1_x86_64.whl (90 kB)\n",
      "\u001b[K     |████████████████████████████████| 90 kB 5.2 MB/s \n",
      "\u001b[?25hCollecting beautifulsoup4\n",
      "  Downloading beautifulsoup4-4.8.2-py3-none-any.whl (106 kB)\n",
      "\u001b[K     |████████████████████████████████| 106 kB 45.3 MB/s \n",
      "\u001b[?25hRequirement already satisfied: setuptools in /opt/conda/lib/python3.7/site-packages (from protobuf) (46.1.1)\n",
      "Collecting soupsieve>=1.2\n",
      "  Downloading soupsieve-2.0-py2.py3-none-any.whl (32 kB)\n",
      "Building wheels for collected packages: simplejson, retrying\n",
      "  Building wheel for simplejson (setup.py) ... \u001b[?25ldone\n",
      "\u001b[?25h  Created wheel for simplejson: filename=simplejson-3.17.0-cp37-cp37m-linux_x86_64.whl size=124715 sha256=f7d34630a4041cc1322661731000acb99b67af2ca3881668eb3ba1e93f927441\n",
      "  Stored in directory: /home/jovyan/.cache/pip/wheels/8a/2d/bb/65cfe3f590a9cbb199f2011a6e4ccecd858844fb04e0dee2e9\n",
      "  Building wheel for retrying (setup.py) ... \u001b[?25ldone\n",
      "\u001b[?25h  Created wheel for retrying: filename=retrying-1.3.3-py3-none-any.whl size=11429 sha256=9041ba5b5194ccdcdd85a83f7756fd4686bafb3fd91a3977f45529708c9ecbe4\n",
      "  Stored in directory: /home/jovyan/.cache/pip/wheels/f9/8d/8d/f6af3f7f9eea3553bc2fe6d53e4b287dad18b06a861ac56ddf\n",
      "Successfully built simplejson retrying\n",
      "Installing collected packages: retrying, plotly, simplejson, numpy, pyparsing, cycler, kiwisolver, matplotlib, soupsieve, beautifulsoup4, google, protobuf, scipy\n",
      "Successfully installed beautifulsoup4-4.8.2 cycler-0.10.0 google-2.0.3 kiwisolver-1.1.0 matplotlib-3.2.1 numpy-1.18.2 plotly-4.5.4 protobuf-3.11.3 pyparsing-2.4.6 retrying-1.3.3 scipy-1.4.1 simplejson-3.17.0 soupsieve-2.0\n"
     ]
    }
   ],
   "source": [
    "!pip install grpcio plotly simplejson matplotlib google protobuf scipy"
   ]
  },
  {
   "cell_type": "code",
   "execution_count": 6,
   "metadata": {},
   "outputs": [
    {
     "name": "stdout",
     "output_type": "stream",
     "text": [
      "Collecting package metadata: done\n",
      "Solving environment: done\n",
      "\n",
      "\n",
      "==> WARNING: A newer version of conda exists. <==\n",
      "  current version: 4.6.14\n",
      "  latest version: 4.8.3\n",
      "\n",
      "Please update conda by running\n",
      "\n",
      "    $ conda update -n base conda\n",
      "\n",
      "\n",
      "\n",
      "## Package Plan ##\n",
      "\n",
      "  environment location: /opt/conda\n",
      "\n",
      "  added / updated specs:\n",
      "    - pandas\n",
      "\n",
      "\n",
      "The following packages will be downloaded:\n",
      "\n",
      "    package                    |            build\n",
      "    ---------------------------|-----------------\n",
      "    _libgcc_mutex-0.1          |             main           2 KB  conda-forge\n",
      "    ca-certificates-2019.11.28 |       hecc5488_0         145 KB  conda-forge\n",
      "    certifi-2019.11.28         |   py37hc8dfbb8_1         149 KB  conda-forge\n",
      "    libblas-3.8.0              |      14_openblas          10 KB  conda-forge\n",
      "    libcblas-3.8.0             |      14_openblas          10 KB  conda-forge\n",
      "    libgfortran-ng-7.3.0       |       hdf63c60_5         1.7 MB  conda-forge\n",
      "    liblapack-3.8.0            |      14_openblas          10 KB  conda-forge\n",
      "    libopenblas-0.3.7          |       h5ec1e0e_6         7.6 MB  conda-forge\n",
      "    numpy-1.18.1               |   py37h8960a57_1         5.2 MB  conda-forge\n",
      "    openssl-1.1.1e             |       h516909a_0         2.1 MB  conda-forge\n",
      "    pandas-1.0.3               |   py37h0da4684_0        11.1 MB  conda-forge\n",
      "    python_abi-3.7             |          1_cp37m           4 KB  conda-forge\n",
      "    pytz-2019.3                |             py_0         237 KB  conda-forge\n",
      "    ------------------------------------------------------------\n",
      "                                           Total:        28.3 MB\n",
      "\n",
      "The following NEW packages will be INSTALLED:\n",
      "\n",
      "  _libgcc_mutex      conda-forge/linux-64::_libgcc_mutex-0.1-main\n",
      "  libblas            conda-forge/linux-64::libblas-3.8.0-14_openblas\n",
      "  libcblas           conda-forge/linux-64::libcblas-3.8.0-14_openblas\n",
      "  libgfortran-ng     conda-forge/linux-64::libgfortran-ng-7.3.0-hdf63c60_5\n",
      "  liblapack          conda-forge/linux-64::liblapack-3.8.0-14_openblas\n",
      "  libopenblas        conda-forge/linux-64::libopenblas-0.3.7-h5ec1e0e_6\n",
      "  numpy              conda-forge/linux-64::numpy-1.18.1-py37h8960a57_1\n",
      "  pandas             conda-forge/linux-64::pandas-1.0.3-py37h0da4684_0\n",
      "  python_abi         conda-forge/linux-64::python_abi-3.7-1_cp37m\n",
      "  pytz               conda-forge/noarch::pytz-2019.3-py_0\n",
      "\n",
      "The following packages will be UPDATED:\n",
      "\n",
      "  ca-certificates                       2019.3.9-hecc5488_0 --> 2019.11.28-hecc5488_0\n",
      "  certifi                                   2019.3.9-py37_0 --> 2019.11.28-py37hc8dfbb8_1\n",
      "  openssl                                 1.1.1b-h14c3975_1 --> 1.1.1e-h516909a_0\n",
      "\n",
      "\n",
      "\n",
      "Downloading and Extracting Packages\n",
      "libcblas-3.8.0       | 10 KB     | ##################################### | 100% \n",
      "_libgcc_mutex-0.1    | 2 KB      | ##################################### | 100% \n",
      "libopenblas-0.3.7    | 7.6 MB    | ##################################### | 100% \n",
      "python_abi-3.7       | 4 KB      | ##################################### | 100% \n",
      "libgfortran-ng-7.3.0 | 1.7 MB    | ##################################### | 100% \n",
      "pandas-1.0.3         | 11.1 MB   | ##################################### | 100% \n",
      "certifi-2019.11.28   | 149 KB    | ##################################### | 100% \n",
      "liblapack-3.8.0      | 10 KB     | ##################################### | 100% \n",
      "libblas-3.8.0        | 10 KB     | ##################################### | 100% \n",
      "numpy-1.18.1         | 5.2 MB    | ##################################### | 100% \n",
      "pytz-2019.3          | 237 KB    | ##################################### | 100% \n",
      "ca-certificates-2019 | 145 KB    | ##################################### | 100% \n",
      "openssl-1.1.1e       | 2.1 MB    | ##################################### | 100% \n",
      "Preparing transaction: done\n",
      "Verifying transaction: done\n",
      "Executing transaction: done\n"
     ]
    }
   ],
   "source": [
    "!conda install -y pandas"
   ]
  },
  {
   "cell_type": "code",
   "execution_count": null,
   "metadata": {},
   "outputs": [],
   "source": []
  }
 ],
 "metadata": {
  "kernelspec": {
   "display_name": "Python 3",
   "language": "python",
   "name": "python3"
  },
  "language_info": {
   "codemirror_mode": {
    "name": "ipython",
    "version": 3
   },
   "file_extension": ".py",
   "mimetype": "text/x-python",
   "name": "python",
   "nbconvert_exporter": "python",
   "pygments_lexer": "ipython3",
   "version": "3.7.3"
  }
 },
 "nbformat": 4,
 "nbformat_minor": 2
}
